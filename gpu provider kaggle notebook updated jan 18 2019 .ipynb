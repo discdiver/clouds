{
  "cells": [
    {
      "metadata": {
        "_uuid": "115fa55daf839f29fcf5041ba5f186e7ee692286"
      },
      "cell_type": "markdown",
      "source": "# Deep Learning Cloud Service Provider Comparison\n## By Jeff Hale\n\nIn this notebook I explore which cloud service providers offer the best value for GPU users. I use plotly, Seaborn, and pandas to make visualizations for this project.\n\n## See [this Medium article](https://towardsdatascience.com/maximize-your-gpu-dollars-a9133f4e546a) for an extended discussion."
    },
    {
      "metadata": {
        "trusted": true,
        "_uuid": "b50ed2976036168d00e3c26c8f146b094f997f39"
      },
      "cell_type": "code",
      "source": "# import the usual frameworks\nimport pandas as pd\nimport numpy as np\nimport matplotlib.pyplot as plt\nimport seaborn as sns\nimport collections\nimport warnings\n\nfrom IPython.core.display import display, HTML\nfrom sklearn.preprocessing import MinMaxScaler\n    \n# import plotly \nimport plotly\nimport plotly.figure_factory as ff\nimport plotly.graph_objs as go\nimport plotly.offline as py\nimport plotly.tools as tls\n\n# for color scales in plotly\nimport colorlover as cl \n\n# configure things\nwarnings.filterwarnings('ignore')\n\npd.options.display.float_format = '{:,.2f}'.format  \npd.options.display.max_columns = 999\n\npy.init_notebook_mode(connected=True)\n\n%load_ext autoreload\n%autoreload 2\n%matplotlib inline",
      "execution_count": 1,
      "outputs": [
        {
          "output_type": "display_data",
          "data": {
            "text/html": "<script type=\"text/javascript\">window.PlotlyConfig = {MathJaxConfig: 'local'};</script><script type=\"text/javascript\">if (window.MathJax) {MathJax.Hub.Config({SVG: {font: \"STIX-Web\"}});}</script><script>requirejs.config({paths: { 'plotly': ['https://cdn.plot.ly/plotly-latest.min']},});if(!window._Plotly) {require(['plotly'],function(plotly) {window._Plotly=plotly;});}</script>",
            "text/vnd.plotly.v1+html": "<script type=\"text/javascript\">window.PlotlyConfig = {MathJaxConfig: 'local'};</script><script type=\"text/javascript\">if (window.MathJax) {MathJax.Hub.Config({SVG: {font: \"STIX-Web\"}});}</script><script>requirejs.config({paths: { 'plotly': ['https://cdn.plot.ly/plotly-latest.min']},});if(!window._Plotly) {require(['plotly'],function(plotly) {window._Plotly=plotly;});}</script>"
          },
          "metadata": {}
        }
      ]
    },
    {
      "metadata": {
        "_uuid": "613afce6a66b8a47aeeb355d292ac5d22a72a373"
      },
      "cell_type": "markdown",
      "source": "# Please upvote this Kaggle kernel if you find it helpful."
    },
    {
      "metadata": {
        "_uuid": "72fca9c70c4e21c9996f14191ad2a4a4abc74ef6"
      },
      "cell_type": "markdown",
      "source": "# Get the data"
    },
    {
      "metadata": {
        "_uuid": "1eaa89b17d347e7217e25f5e4b2290b0d058cd3a"
      },
      "cell_type": "markdown",
      "source": "List package versions and read in the data from the .csv. "
    },
    {
      "metadata": {
        "trusted": true,
        "_uuid": "3a5cb9df2bf099384ff86801bc0197429c9a9b64"
      },
      "cell_type": "code",
      "source": "# !pwd\n# !pip list",
      "execution_count": 2,
      "outputs": []
    },
    {
      "metadata": {
        "trusted": true,
        "_uuid": "792dab8f5adbdeece03aa432f87c130def40ea32"
      },
      "cell_type": "code",
      "source": "df_orig = pd.read_csv(\n    '../input/clouds.csv',\n    skiprows=0,\n    thousands=',',\n)\ndf_orig",
      "execution_count": 3,
      "outputs": [
        {
          "output_type": "execute_result",
          "execution_count": 3,
          "data": {
            "text/plain": "                  Cloud Service             NVIDIA GPU  CPUs  GPU RAM   \\\n0                  Google Colab                    K80     1     12.00   \n1   Google Cloud Compute Engine                   P100     6     16.00   \n2   Google Cloud Compute Engine                    K80     6     12.00   \n3   Google Cloud Compute Engine                   V100     8     16.00   \n4   Google Cloud Compute Engine                     P4     4      8.00   \n5   Google Cloud Compute Engine               V100 x 2     8     32.00   \n6   Google Cloud Compute Engine             V100 x 4       8     64.00   \n7                       AWS EC2        K80 (p2.xlarge)     4     12.00   \n8                       AWS EC2   K80 x 8 (p2.8xlarge)    32     96.00   \n9                       AWS EC2      V100 (p3.2xlarge)     8     16.00   \n10                      AWS EC2  V100 x 4 (p3.8xlarge)    64    128.00   \n11                      vast.ai            GTX 1070 Ti     4      8.10   \n12                   Paperspace           Quadro M4000     8      8.00   \n13                       Kaggle                    K80     2     12.00   \n14             Amazon Sagemaker                    K80     4     12.00   \n\n    CPU RAM   Cost Per Hour  Wall Time  Cost to Train  \n0         13           0.00      31.17           0.00  \n1         20           0.50       5.32           0.04  \n2         17           0.20      18.13           0.06  \n3         20           0.82       3.83           0.05  \n4         26           0.33      10.28           0.06  \n5         30           1.57       3.63           0.10  \n6         30           3.05       3.38           0.17  \n7         61           0.28      20.90           0.10  \n8        488           2.35      16.12           0.63  \n9         61           1.05       3.85           0.07  \n10       488           4.05       2.97           0.20  \n11        16           0.06       7.23           0.01  \n12        30           0.51       8.30           0.07  \n13         6           0.00        nan           0.00  \n14        61           1.26      16.12           0.34  ",
            "text/html": "<div>\n<style scoped>\n    .dataframe tbody tr th:only-of-type {\n        vertical-align: middle;\n    }\n\n    .dataframe tbody tr th {\n        vertical-align: top;\n    }\n\n    .dataframe thead th {\n        text-align: right;\n    }\n</style>\n<table border=\"1\" class=\"dataframe\">\n  <thead>\n    <tr style=\"text-align: right;\">\n      <th></th>\n      <th>Cloud Service</th>\n      <th>NVIDIA GPU</th>\n      <th>CPUs</th>\n      <th>GPU RAM</th>\n      <th>CPU RAM</th>\n      <th>Cost Per Hour</th>\n      <th>Wall Time</th>\n      <th>Cost to Train</th>\n    </tr>\n  </thead>\n  <tbody>\n    <tr>\n      <th>0</th>\n      <td>Google Colab</td>\n      <td>K80</td>\n      <td>1</td>\n      <td>12.00</td>\n      <td>13</td>\n      <td>0.00</td>\n      <td>31.17</td>\n      <td>0.00</td>\n    </tr>\n    <tr>\n      <th>1</th>\n      <td>Google Cloud Compute Engine</td>\n      <td>P100</td>\n      <td>6</td>\n      <td>16.00</td>\n      <td>20</td>\n      <td>0.50</td>\n      <td>5.32</td>\n      <td>0.04</td>\n    </tr>\n    <tr>\n      <th>2</th>\n      <td>Google Cloud Compute Engine</td>\n      <td>K80</td>\n      <td>6</td>\n      <td>12.00</td>\n      <td>17</td>\n      <td>0.20</td>\n      <td>18.13</td>\n      <td>0.06</td>\n    </tr>\n    <tr>\n      <th>3</th>\n      <td>Google Cloud Compute Engine</td>\n      <td>V100</td>\n      <td>8</td>\n      <td>16.00</td>\n      <td>20</td>\n      <td>0.82</td>\n      <td>3.83</td>\n      <td>0.05</td>\n    </tr>\n    <tr>\n      <th>4</th>\n      <td>Google Cloud Compute Engine</td>\n      <td>P4</td>\n      <td>4</td>\n      <td>8.00</td>\n      <td>26</td>\n      <td>0.33</td>\n      <td>10.28</td>\n      <td>0.06</td>\n    </tr>\n    <tr>\n      <th>5</th>\n      <td>Google Cloud Compute Engine</td>\n      <td>V100 x 2</td>\n      <td>8</td>\n      <td>32.00</td>\n      <td>30</td>\n      <td>1.57</td>\n      <td>3.63</td>\n      <td>0.10</td>\n    </tr>\n    <tr>\n      <th>6</th>\n      <td>Google Cloud Compute Engine</td>\n      <td>V100 x 4</td>\n      <td>8</td>\n      <td>64.00</td>\n      <td>30</td>\n      <td>3.05</td>\n      <td>3.38</td>\n      <td>0.17</td>\n    </tr>\n    <tr>\n      <th>7</th>\n      <td>AWS EC2</td>\n      <td>K80 (p2.xlarge)</td>\n      <td>4</td>\n      <td>12.00</td>\n      <td>61</td>\n      <td>0.28</td>\n      <td>20.90</td>\n      <td>0.10</td>\n    </tr>\n    <tr>\n      <th>8</th>\n      <td>AWS EC2</td>\n      <td>K80 x 8 (p2.8xlarge)</td>\n      <td>32</td>\n      <td>96.00</td>\n      <td>488</td>\n      <td>2.35</td>\n      <td>16.12</td>\n      <td>0.63</td>\n    </tr>\n    <tr>\n      <th>9</th>\n      <td>AWS EC2</td>\n      <td>V100 (p3.2xlarge)</td>\n      <td>8</td>\n      <td>16.00</td>\n      <td>61</td>\n      <td>1.05</td>\n      <td>3.85</td>\n      <td>0.07</td>\n    </tr>\n    <tr>\n      <th>10</th>\n      <td>AWS EC2</td>\n      <td>V100 x 4 (p3.8xlarge)</td>\n      <td>64</td>\n      <td>128.00</td>\n      <td>488</td>\n      <td>4.05</td>\n      <td>2.97</td>\n      <td>0.20</td>\n    </tr>\n    <tr>\n      <th>11</th>\n      <td>vast.ai</td>\n      <td>GTX 1070 Ti</td>\n      <td>4</td>\n      <td>8.10</td>\n      <td>16</td>\n      <td>0.06</td>\n      <td>7.23</td>\n      <td>0.01</td>\n    </tr>\n    <tr>\n      <th>12</th>\n      <td>Paperspace</td>\n      <td>Quadro M4000</td>\n      <td>8</td>\n      <td>8.00</td>\n      <td>30</td>\n      <td>0.51</td>\n      <td>8.30</td>\n      <td>0.07</td>\n    </tr>\n    <tr>\n      <th>13</th>\n      <td>Kaggle</td>\n      <td>K80</td>\n      <td>2</td>\n      <td>12.00</td>\n      <td>6</td>\n      <td>0.00</td>\n      <td>nan</td>\n      <td>0.00</td>\n    </tr>\n    <tr>\n      <th>14</th>\n      <td>Amazon Sagemaker</td>\n      <td>K80</td>\n      <td>4</td>\n      <td>12.00</td>\n      <td>61</td>\n      <td>1.26</td>\n      <td>16.12</td>\n      <td>0.34</td>\n    </tr>\n  </tbody>\n</table>\n</div>"
          },
          "metadata": {}
        }
      ]
    },
    {
      "metadata": {
        "trusted": true,
        "_uuid": "2bd8661a9fcdeef7632146767d164d50c9eabd9f"
      },
      "cell_type": "code",
      "source": "df = df_orig.copy()",
      "execution_count": 4,
      "outputs": []
    },
    {
      "metadata": {
        "trusted": true,
        "_uuid": "ec3699d31623ed7328ee47f19eb5059d762441f6"
      },
      "cell_type": "code",
      "source": "df",
      "execution_count": 5,
      "outputs": [
        {
          "output_type": "execute_result",
          "execution_count": 5,
          "data": {
            "text/plain": "                  Cloud Service             NVIDIA GPU  CPUs  GPU RAM   \\\n0                  Google Colab                    K80     1     12.00   \n1   Google Cloud Compute Engine                   P100     6     16.00   \n2   Google Cloud Compute Engine                    K80     6     12.00   \n3   Google Cloud Compute Engine                   V100     8     16.00   \n4   Google Cloud Compute Engine                     P4     4      8.00   \n5   Google Cloud Compute Engine               V100 x 2     8     32.00   \n6   Google Cloud Compute Engine             V100 x 4       8     64.00   \n7                       AWS EC2        K80 (p2.xlarge)     4     12.00   \n8                       AWS EC2   K80 x 8 (p2.8xlarge)    32     96.00   \n9                       AWS EC2      V100 (p3.2xlarge)     8     16.00   \n10                      AWS EC2  V100 x 4 (p3.8xlarge)    64    128.00   \n11                      vast.ai            GTX 1070 Ti     4      8.10   \n12                   Paperspace           Quadro M4000     8      8.00   \n13                       Kaggle                    K80     2     12.00   \n14             Amazon Sagemaker                    K80     4     12.00   \n\n    CPU RAM   Cost Per Hour  Wall Time  Cost to Train  \n0         13           0.00      31.17           0.00  \n1         20           0.50       5.32           0.04  \n2         17           0.20      18.13           0.06  \n3         20           0.82       3.83           0.05  \n4         26           0.33      10.28           0.06  \n5         30           1.57       3.63           0.10  \n6         30           3.05       3.38           0.17  \n7         61           0.28      20.90           0.10  \n8        488           2.35      16.12           0.63  \n9         61           1.05       3.85           0.07  \n10       488           4.05       2.97           0.20  \n11        16           0.06       7.23           0.01  \n12        30           0.51       8.30           0.07  \n13         6           0.00        nan           0.00  \n14        61           1.26      16.12           0.34  ",
            "text/html": "<div>\n<style scoped>\n    .dataframe tbody tr th:only-of-type {\n        vertical-align: middle;\n    }\n\n    .dataframe tbody tr th {\n        vertical-align: top;\n    }\n\n    .dataframe thead th {\n        text-align: right;\n    }\n</style>\n<table border=\"1\" class=\"dataframe\">\n  <thead>\n    <tr style=\"text-align: right;\">\n      <th></th>\n      <th>Cloud Service</th>\n      <th>NVIDIA GPU</th>\n      <th>CPUs</th>\n      <th>GPU RAM</th>\n      <th>CPU RAM</th>\n      <th>Cost Per Hour</th>\n      <th>Wall Time</th>\n      <th>Cost to Train</th>\n    </tr>\n  </thead>\n  <tbody>\n    <tr>\n      <th>0</th>\n      <td>Google Colab</td>\n      <td>K80</td>\n      <td>1</td>\n      <td>12.00</td>\n      <td>13</td>\n      <td>0.00</td>\n      <td>31.17</td>\n      <td>0.00</td>\n    </tr>\n    <tr>\n      <th>1</th>\n      <td>Google Cloud Compute Engine</td>\n      <td>P100</td>\n      <td>6</td>\n      <td>16.00</td>\n      <td>20</td>\n      <td>0.50</td>\n      <td>5.32</td>\n      <td>0.04</td>\n    </tr>\n    <tr>\n      <th>2</th>\n      <td>Google Cloud Compute Engine</td>\n      <td>K80</td>\n      <td>6</td>\n      <td>12.00</td>\n      <td>17</td>\n      <td>0.20</td>\n      <td>18.13</td>\n      <td>0.06</td>\n    </tr>\n    <tr>\n      <th>3</th>\n      <td>Google Cloud Compute Engine</td>\n      <td>V100</td>\n      <td>8</td>\n      <td>16.00</td>\n      <td>20</td>\n      <td>0.82</td>\n      <td>3.83</td>\n      <td>0.05</td>\n    </tr>\n    <tr>\n      <th>4</th>\n      <td>Google Cloud Compute Engine</td>\n      <td>P4</td>\n      <td>4</td>\n      <td>8.00</td>\n      <td>26</td>\n      <td>0.33</td>\n      <td>10.28</td>\n      <td>0.06</td>\n    </tr>\n    <tr>\n      <th>5</th>\n      <td>Google Cloud Compute Engine</td>\n      <td>V100 x 2</td>\n      <td>8</td>\n      <td>32.00</td>\n      <td>30</td>\n      <td>1.57</td>\n      <td>3.63</td>\n      <td>0.10</td>\n    </tr>\n    <tr>\n      <th>6</th>\n      <td>Google Cloud Compute Engine</td>\n      <td>V100 x 4</td>\n      <td>8</td>\n      <td>64.00</td>\n      <td>30</td>\n      <td>3.05</td>\n      <td>3.38</td>\n      <td>0.17</td>\n    </tr>\n    <tr>\n      <th>7</th>\n      <td>AWS EC2</td>\n      <td>K80 (p2.xlarge)</td>\n      <td>4</td>\n      <td>12.00</td>\n      <td>61</td>\n      <td>0.28</td>\n      <td>20.90</td>\n      <td>0.10</td>\n    </tr>\n    <tr>\n      <th>8</th>\n      <td>AWS EC2</td>\n      <td>K80 x 8 (p2.8xlarge)</td>\n      <td>32</td>\n      <td>96.00</td>\n      <td>488</td>\n      <td>2.35</td>\n      <td>16.12</td>\n      <td>0.63</td>\n    </tr>\n    <tr>\n      <th>9</th>\n      <td>AWS EC2</td>\n      <td>V100 (p3.2xlarge)</td>\n      <td>8</td>\n      <td>16.00</td>\n      <td>61</td>\n      <td>1.05</td>\n      <td>3.85</td>\n      <td>0.07</td>\n    </tr>\n    <tr>\n      <th>10</th>\n      <td>AWS EC2</td>\n      <td>V100 x 4 (p3.8xlarge)</td>\n      <td>64</td>\n      <td>128.00</td>\n      <td>488</td>\n      <td>4.05</td>\n      <td>2.97</td>\n      <td>0.20</td>\n    </tr>\n    <tr>\n      <th>11</th>\n      <td>vast.ai</td>\n      <td>GTX 1070 Ti</td>\n      <td>4</td>\n      <td>8.10</td>\n      <td>16</td>\n      <td>0.06</td>\n      <td>7.23</td>\n      <td>0.01</td>\n    </tr>\n    <tr>\n      <th>12</th>\n      <td>Paperspace</td>\n      <td>Quadro M4000</td>\n      <td>8</td>\n      <td>8.00</td>\n      <td>30</td>\n      <td>0.51</td>\n      <td>8.30</td>\n      <td>0.07</td>\n    </tr>\n    <tr>\n      <th>13</th>\n      <td>Kaggle</td>\n      <td>K80</td>\n      <td>2</td>\n      <td>12.00</td>\n      <td>6</td>\n      <td>0.00</td>\n      <td>nan</td>\n      <td>0.00</td>\n    </tr>\n    <tr>\n      <th>14</th>\n      <td>Amazon Sagemaker</td>\n      <td>K80</td>\n      <td>4</td>\n      <td>12.00</td>\n      <td>61</td>\n      <td>1.26</td>\n      <td>16.12</td>\n      <td>0.34</td>\n    </tr>\n  </tbody>\n</table>\n</div>"
          },
          "metadata": {}
        }
      ]
    },
    {
      "metadata": {
        "trusted": true,
        "_uuid": "f53cfede5bd4e2c313fa44345f51a62e49c3eeaa"
      },
      "cell_type": "code",
      "source": "df.info()",
      "execution_count": 6,
      "outputs": [
        {
          "output_type": "stream",
          "text": "<class 'pandas.core.frame.DataFrame'>\nRangeIndex: 15 entries, 0 to 14\nData columns (total 8 columns):\nCloud Service    15 non-null object\nNVIDIA GPU       15 non-null object\nCPUs             15 non-null int64\nGPU RAM          15 non-null float64\nCPU RAM          15 non-null int64\nCost Per Hour    15 non-null float64\nWall Time        14 non-null float64\nCost to Train    15 non-null float64\ndtypes: float64(4), int64(2), object(2)\nmemory usage: 1.0+ KB\n",
          "name": "stdout"
        }
      ]
    },
    {
      "metadata": {
        "_uuid": "e70d484dda7fc1cab3d1f48549a77536601facc1"
      },
      "cell_type": "markdown",
      "source": "Amazon Sagemaker was not run while Amazon sits on my quota increase request. The specs of machine on Sagemaker are the same as a similar on AWS EC2, so that EC2 time was substituded. Sagemaker is very expensive for the power, so it's not going to make the final cut, anyway. \\\n\nWall time was used in the analysis because that is what Colab would output for %%time. "
    },
    {
      "metadata": {
        "_uuid": "6f8e82b097d8704e005d54ce1fab03899bdf799e"
      },
      "cell_type": "markdown",
      "source": "Let's combine the first two columns into a separate column for ease of charting.  Then we'll set the new column as the index."
    },
    {
      "metadata": {
        "trusted": true,
        "_uuid": "1265c29bff47ba5d5896b8710467f354b8411816"
      },
      "cell_type": "code",
      "source": "df['full'] = df['Cloud Service'] + \" \" + df['NVIDIA GPU']\ndf.head(3)",
      "execution_count": 7,
      "outputs": [
        {
          "output_type": "execute_result",
          "execution_count": 7,
          "data": {
            "text/plain": "                 Cloud Service NVIDIA GPU  CPUs  GPU RAM   CPU RAM   \\\n0                 Google Colab        K80     1     12.00        13   \n1  Google Cloud Compute Engine       P100     6     16.00        20   \n2  Google Cloud Compute Engine        K80     6     12.00        17   \n\n   Cost Per Hour  Wall Time  Cost to Train                              full  \n0           0.00      31.17           0.00                  Google Colab K80  \n1           0.50       5.32           0.04  Google Cloud Compute Engine P100  \n2           0.20      18.13           0.06   Google Cloud Compute Engine K80  ",
            "text/html": "<div>\n<style scoped>\n    .dataframe tbody tr th:only-of-type {\n        vertical-align: middle;\n    }\n\n    .dataframe tbody tr th {\n        vertical-align: top;\n    }\n\n    .dataframe thead th {\n        text-align: right;\n    }\n</style>\n<table border=\"1\" class=\"dataframe\">\n  <thead>\n    <tr style=\"text-align: right;\">\n      <th></th>\n      <th>Cloud Service</th>\n      <th>NVIDIA GPU</th>\n      <th>CPUs</th>\n      <th>GPU RAM</th>\n      <th>CPU RAM</th>\n      <th>Cost Per Hour</th>\n      <th>Wall Time</th>\n      <th>Cost to Train</th>\n      <th>full</th>\n    </tr>\n  </thead>\n  <tbody>\n    <tr>\n      <th>0</th>\n      <td>Google Colab</td>\n      <td>K80</td>\n      <td>1</td>\n      <td>12.00</td>\n      <td>13</td>\n      <td>0.00</td>\n      <td>31.17</td>\n      <td>0.00</td>\n      <td>Google Colab K80</td>\n    </tr>\n    <tr>\n      <th>1</th>\n      <td>Google Cloud Compute Engine</td>\n      <td>P100</td>\n      <td>6</td>\n      <td>16.00</td>\n      <td>20</td>\n      <td>0.50</td>\n      <td>5.32</td>\n      <td>0.04</td>\n      <td>Google Cloud Compute Engine P100</td>\n    </tr>\n    <tr>\n      <th>2</th>\n      <td>Google Cloud Compute Engine</td>\n      <td>K80</td>\n      <td>6</td>\n      <td>12.00</td>\n      <td>17</td>\n      <td>0.20</td>\n      <td>18.13</td>\n      <td>0.06</td>\n      <td>Google Cloud Compute Engine K80</td>\n    </tr>\n  </tbody>\n</table>\n</div>"
          },
          "metadata": {}
        }
      ]
    },
    {
      "metadata": {
        "trusted": true,
        "_uuid": "0e6fc2fba244cfbd55b147f314240f7cc1ad1615"
      },
      "cell_type": "code",
      "source": "df.set_index('full', inplace = True)\ndf",
      "execution_count": 8,
      "outputs": [
        {
          "output_type": "execute_result",
          "execution_count": 8,
          "data": {
            "text/plain": "                                                      Cloud Service  \\\nfull                                                                  \nGoogle Colab K80                                       Google Colab   \nGoogle Cloud Compute Engine P100        Google Cloud Compute Engine   \nGoogle Cloud Compute Engine K80         Google Cloud Compute Engine   \nGoogle Cloud Compute Engine V100        Google Cloud Compute Engine   \nGoogle Cloud Compute Engine P4          Google Cloud Compute Engine   \nGoogle Cloud Compute Engine V100 x 2    Google Cloud Compute Engine   \nGoogle Cloud Compute Engine V100 x 4    Google Cloud Compute Engine   \nAWS EC2 K80 (p2.xlarge)                                     AWS EC2   \nAWS EC2 K80 x 8 (p2.8xlarge)                                AWS EC2   \nAWS EC2 V100 (p3.2xlarge)                                   AWS EC2   \nAWS EC2 V100 x 4 (p3.8xlarge)                               AWS EC2   \nvast.ai GTX 1070 Ti                                         vast.ai   \nPaperspace Quadro M4000                                  Paperspace   \nKaggle K80                                                   Kaggle   \nAmazon Sagemaker K80                               Amazon Sagemaker   \n\n                                                   NVIDIA GPU  CPUs  GPU RAM   \\\nfull                                                                            \nGoogle Colab K80                                          K80     1     12.00   \nGoogle Cloud Compute Engine P100                         P100     6     16.00   \nGoogle Cloud Compute Engine K80                           K80     6     12.00   \nGoogle Cloud Compute Engine V100                         V100     8     16.00   \nGoogle Cloud Compute Engine P4                             P4     4      8.00   \nGoogle Cloud Compute Engine V100 x 2                 V100 x 2     8     32.00   \nGoogle Cloud Compute Engine V100 x 4               V100 x 4       8     64.00   \nAWS EC2 K80 (p2.xlarge)                       K80 (p2.xlarge)     4     12.00   \nAWS EC2 K80 x 8 (p2.8xlarge)             K80 x 8 (p2.8xlarge)    32     96.00   \nAWS EC2 V100 (p3.2xlarge)                   V100 (p3.2xlarge)     8     16.00   \nAWS EC2 V100 x 4 (p3.8xlarge)           V100 x 4 (p3.8xlarge)    64    128.00   \nvast.ai GTX 1070 Ti                               GTX 1070 Ti     4      8.10   \nPaperspace Quadro M4000                          Quadro M4000     8      8.00   \nKaggle K80                                                K80     2     12.00   \nAmazon Sagemaker K80                                      K80     4     12.00   \n\n                                        CPU RAM   Cost Per Hour  Wall Time  \\\nfull                                                                         \nGoogle Colab K80                              13           0.00      31.17   \nGoogle Cloud Compute Engine P100              20           0.50       5.32   \nGoogle Cloud Compute Engine K80               17           0.20      18.13   \nGoogle Cloud Compute Engine V100              20           0.82       3.83   \nGoogle Cloud Compute Engine P4                26           0.33      10.28   \nGoogle Cloud Compute Engine V100 x 2          30           1.57       3.63   \nGoogle Cloud Compute Engine V100 x 4          30           3.05       3.38   \nAWS EC2 K80 (p2.xlarge)                       61           0.28      20.90   \nAWS EC2 K80 x 8 (p2.8xlarge)                 488           2.35      16.12   \nAWS EC2 V100 (p3.2xlarge)                     61           1.05       3.85   \nAWS EC2 V100 x 4 (p3.8xlarge)                488           4.05       2.97   \nvast.ai GTX 1070 Ti                           16           0.06       7.23   \nPaperspace Quadro M4000                       30           0.51       8.30   \nKaggle K80                                     6           0.00        nan   \nAmazon Sagemaker K80                          61           1.26      16.12   \n\n                                        Cost to Train  \nfull                                                   \nGoogle Colab K80                                 0.00  \nGoogle Cloud Compute Engine P100                 0.04  \nGoogle Cloud Compute Engine K80                  0.06  \nGoogle Cloud Compute Engine V100                 0.05  \nGoogle Cloud Compute Engine P4                   0.06  \nGoogle Cloud Compute Engine V100 x 2             0.10  \nGoogle Cloud Compute Engine V100 x 4             0.17  \nAWS EC2 K80 (p2.xlarge)                          0.10  \nAWS EC2 K80 x 8 (p2.8xlarge)                     0.63  \nAWS EC2 V100 (p3.2xlarge)                        0.07  \nAWS EC2 V100 x 4 (p3.8xlarge)                    0.20  \nvast.ai GTX 1070 Ti                              0.01  \nPaperspace Quadro M4000                          0.07  \nKaggle K80                                       0.00  \nAmazon Sagemaker K80                             0.34  ",
            "text/html": "<div>\n<style scoped>\n    .dataframe tbody tr th:only-of-type {\n        vertical-align: middle;\n    }\n\n    .dataframe tbody tr th {\n        vertical-align: top;\n    }\n\n    .dataframe thead th {\n        text-align: right;\n    }\n</style>\n<table border=\"1\" class=\"dataframe\">\n  <thead>\n    <tr style=\"text-align: right;\">\n      <th></th>\n      <th>Cloud Service</th>\n      <th>NVIDIA GPU</th>\n      <th>CPUs</th>\n      <th>GPU RAM</th>\n      <th>CPU RAM</th>\n      <th>Cost Per Hour</th>\n      <th>Wall Time</th>\n      <th>Cost to Train</th>\n    </tr>\n    <tr>\n      <th>full</th>\n      <th></th>\n      <th></th>\n      <th></th>\n      <th></th>\n      <th></th>\n      <th></th>\n      <th></th>\n      <th></th>\n    </tr>\n  </thead>\n  <tbody>\n    <tr>\n      <th>Google Colab K80</th>\n      <td>Google Colab</td>\n      <td>K80</td>\n      <td>1</td>\n      <td>12.00</td>\n      <td>13</td>\n      <td>0.00</td>\n      <td>31.17</td>\n      <td>0.00</td>\n    </tr>\n    <tr>\n      <th>Google Cloud Compute Engine P100</th>\n      <td>Google Cloud Compute Engine</td>\n      <td>P100</td>\n      <td>6</td>\n      <td>16.00</td>\n      <td>20</td>\n      <td>0.50</td>\n      <td>5.32</td>\n      <td>0.04</td>\n    </tr>\n    <tr>\n      <th>Google Cloud Compute Engine K80</th>\n      <td>Google Cloud Compute Engine</td>\n      <td>K80</td>\n      <td>6</td>\n      <td>12.00</td>\n      <td>17</td>\n      <td>0.20</td>\n      <td>18.13</td>\n      <td>0.06</td>\n    </tr>\n    <tr>\n      <th>Google Cloud Compute Engine V100</th>\n      <td>Google Cloud Compute Engine</td>\n      <td>V100</td>\n      <td>8</td>\n      <td>16.00</td>\n      <td>20</td>\n      <td>0.82</td>\n      <td>3.83</td>\n      <td>0.05</td>\n    </tr>\n    <tr>\n      <th>Google Cloud Compute Engine P4</th>\n      <td>Google Cloud Compute Engine</td>\n      <td>P4</td>\n      <td>4</td>\n      <td>8.00</td>\n      <td>26</td>\n      <td>0.33</td>\n      <td>10.28</td>\n      <td>0.06</td>\n    </tr>\n    <tr>\n      <th>Google Cloud Compute Engine V100 x 2</th>\n      <td>Google Cloud Compute Engine</td>\n      <td>V100 x 2</td>\n      <td>8</td>\n      <td>32.00</td>\n      <td>30</td>\n      <td>1.57</td>\n      <td>3.63</td>\n      <td>0.10</td>\n    </tr>\n    <tr>\n      <th>Google Cloud Compute Engine V100 x 4</th>\n      <td>Google Cloud Compute Engine</td>\n      <td>V100 x 4</td>\n      <td>8</td>\n      <td>64.00</td>\n      <td>30</td>\n      <td>3.05</td>\n      <td>3.38</td>\n      <td>0.17</td>\n    </tr>\n    <tr>\n      <th>AWS EC2 K80 (p2.xlarge)</th>\n      <td>AWS EC2</td>\n      <td>K80 (p2.xlarge)</td>\n      <td>4</td>\n      <td>12.00</td>\n      <td>61</td>\n      <td>0.28</td>\n      <td>20.90</td>\n      <td>0.10</td>\n    </tr>\n    <tr>\n      <th>AWS EC2 K80 x 8 (p2.8xlarge)</th>\n      <td>AWS EC2</td>\n      <td>K80 x 8 (p2.8xlarge)</td>\n      <td>32</td>\n      <td>96.00</td>\n      <td>488</td>\n      <td>2.35</td>\n      <td>16.12</td>\n      <td>0.63</td>\n    </tr>\n    <tr>\n      <th>AWS EC2 V100 (p3.2xlarge)</th>\n      <td>AWS EC2</td>\n      <td>V100 (p3.2xlarge)</td>\n      <td>8</td>\n      <td>16.00</td>\n      <td>61</td>\n      <td>1.05</td>\n      <td>3.85</td>\n      <td>0.07</td>\n    </tr>\n    <tr>\n      <th>AWS EC2 V100 x 4 (p3.8xlarge)</th>\n      <td>AWS EC2</td>\n      <td>V100 x 4 (p3.8xlarge)</td>\n      <td>64</td>\n      <td>128.00</td>\n      <td>488</td>\n      <td>4.05</td>\n      <td>2.97</td>\n      <td>0.20</td>\n    </tr>\n    <tr>\n      <th>vast.ai GTX 1070 Ti</th>\n      <td>vast.ai</td>\n      <td>GTX 1070 Ti</td>\n      <td>4</td>\n      <td>8.10</td>\n      <td>16</td>\n      <td>0.06</td>\n      <td>7.23</td>\n      <td>0.01</td>\n    </tr>\n    <tr>\n      <th>Paperspace Quadro M4000</th>\n      <td>Paperspace</td>\n      <td>Quadro M4000</td>\n      <td>8</td>\n      <td>8.00</td>\n      <td>30</td>\n      <td>0.51</td>\n      <td>8.30</td>\n      <td>0.07</td>\n    </tr>\n    <tr>\n      <th>Kaggle K80</th>\n      <td>Kaggle</td>\n      <td>K80</td>\n      <td>2</td>\n      <td>12.00</td>\n      <td>6</td>\n      <td>0.00</td>\n      <td>nan</td>\n      <td>0.00</td>\n    </tr>\n    <tr>\n      <th>Amazon Sagemaker K80</th>\n      <td>Amazon Sagemaker</td>\n      <td>K80</td>\n      <td>4</td>\n      <td>12.00</td>\n      <td>61</td>\n      <td>1.26</td>\n      <td>16.12</td>\n      <td>0.34</td>\n    </tr>\n  </tbody>\n</table>\n</div>"
          },
          "metadata": {}
        }
      ]
    },
    {
      "metadata": {
        "_uuid": "bb8dc07c8d433cab25cbc2a5579569de7e5613b5"
      },
      "cell_type": "markdown",
      "source": "Note that Kaggle wasn't included because at the time this research was conducted using FastAI v1 with it was difficult, if not impossible. "
    },
    {
      "metadata": {
        "trusted": true,
        "_uuid": "f7e13a203fa89ac3a50bd5f3f9aa294a419fdf44"
      },
      "cell_type": "code",
      "source": "df.drop('Kaggle K80', inplace = True)\ndf",
      "execution_count": 9,
      "outputs": [
        {
          "output_type": "execute_result",
          "execution_count": 9,
          "data": {
            "text/plain": "                                                      Cloud Service  \\\nfull                                                                  \nGoogle Colab K80                                       Google Colab   \nGoogle Cloud Compute Engine P100        Google Cloud Compute Engine   \nGoogle Cloud Compute Engine K80         Google Cloud Compute Engine   \nGoogle Cloud Compute Engine V100        Google Cloud Compute Engine   \nGoogle Cloud Compute Engine P4          Google Cloud Compute Engine   \nGoogle Cloud Compute Engine V100 x 2    Google Cloud Compute Engine   \nGoogle Cloud Compute Engine V100 x 4    Google Cloud Compute Engine   \nAWS EC2 K80 (p2.xlarge)                                     AWS EC2   \nAWS EC2 K80 x 8 (p2.8xlarge)                                AWS EC2   \nAWS EC2 V100 (p3.2xlarge)                                   AWS EC2   \nAWS EC2 V100 x 4 (p3.8xlarge)                               AWS EC2   \nvast.ai GTX 1070 Ti                                         vast.ai   \nPaperspace Quadro M4000                                  Paperspace   \nAmazon Sagemaker K80                               Amazon Sagemaker   \n\n                                                   NVIDIA GPU  CPUs  GPU RAM   \\\nfull                                                                            \nGoogle Colab K80                                          K80     1     12.00   \nGoogle Cloud Compute Engine P100                         P100     6     16.00   \nGoogle Cloud Compute Engine K80                           K80     6     12.00   \nGoogle Cloud Compute Engine V100                         V100     8     16.00   \nGoogle Cloud Compute Engine P4                             P4     4      8.00   \nGoogle Cloud Compute Engine V100 x 2                 V100 x 2     8     32.00   \nGoogle Cloud Compute Engine V100 x 4               V100 x 4       8     64.00   \nAWS EC2 K80 (p2.xlarge)                       K80 (p2.xlarge)     4     12.00   \nAWS EC2 K80 x 8 (p2.8xlarge)             K80 x 8 (p2.8xlarge)    32     96.00   \nAWS EC2 V100 (p3.2xlarge)                   V100 (p3.2xlarge)     8     16.00   \nAWS EC2 V100 x 4 (p3.8xlarge)           V100 x 4 (p3.8xlarge)    64    128.00   \nvast.ai GTX 1070 Ti                               GTX 1070 Ti     4      8.10   \nPaperspace Quadro M4000                          Quadro M4000     8      8.00   \nAmazon Sagemaker K80                                      K80     4     12.00   \n\n                                        CPU RAM   Cost Per Hour  Wall Time  \\\nfull                                                                         \nGoogle Colab K80                              13           0.00      31.17   \nGoogle Cloud Compute Engine P100              20           0.50       5.32   \nGoogle Cloud Compute Engine K80               17           0.20      18.13   \nGoogle Cloud Compute Engine V100              20           0.82       3.83   \nGoogle Cloud Compute Engine P4                26           0.33      10.28   \nGoogle Cloud Compute Engine V100 x 2          30           1.57       3.63   \nGoogle Cloud Compute Engine V100 x 4          30           3.05       3.38   \nAWS EC2 K80 (p2.xlarge)                       61           0.28      20.90   \nAWS EC2 K80 x 8 (p2.8xlarge)                 488           2.35      16.12   \nAWS EC2 V100 (p3.2xlarge)                     61           1.05       3.85   \nAWS EC2 V100 x 4 (p3.8xlarge)                488           4.05       2.97   \nvast.ai GTX 1070 Ti                           16           0.06       7.23   \nPaperspace Quadro M4000                       30           0.51       8.30   \nAmazon Sagemaker K80                          61           1.26      16.12   \n\n                                        Cost to Train  \nfull                                                   \nGoogle Colab K80                                 0.00  \nGoogle Cloud Compute Engine P100                 0.04  \nGoogle Cloud Compute Engine K80                  0.06  \nGoogle Cloud Compute Engine V100                 0.05  \nGoogle Cloud Compute Engine P4                   0.06  \nGoogle Cloud Compute Engine V100 x 2             0.10  \nGoogle Cloud Compute Engine V100 x 4             0.17  \nAWS EC2 K80 (p2.xlarge)                          0.10  \nAWS EC2 K80 x 8 (p2.8xlarge)                     0.63  \nAWS EC2 V100 (p3.2xlarge)                        0.07  \nAWS EC2 V100 x 4 (p3.8xlarge)                    0.20  \nvast.ai GTX 1070 Ti                              0.01  \nPaperspace Quadro M4000                          0.07  \nAmazon Sagemaker K80                             0.34  ",
            "text/html": "<div>\n<style scoped>\n    .dataframe tbody tr th:only-of-type {\n        vertical-align: middle;\n    }\n\n    .dataframe tbody tr th {\n        vertical-align: top;\n    }\n\n    .dataframe thead th {\n        text-align: right;\n    }\n</style>\n<table border=\"1\" class=\"dataframe\">\n  <thead>\n    <tr style=\"text-align: right;\">\n      <th></th>\n      <th>Cloud Service</th>\n      <th>NVIDIA GPU</th>\n      <th>CPUs</th>\n      <th>GPU RAM</th>\n      <th>CPU RAM</th>\n      <th>Cost Per Hour</th>\n      <th>Wall Time</th>\n      <th>Cost to Train</th>\n    </tr>\n    <tr>\n      <th>full</th>\n      <th></th>\n      <th></th>\n      <th></th>\n      <th></th>\n      <th></th>\n      <th></th>\n      <th></th>\n      <th></th>\n    </tr>\n  </thead>\n  <tbody>\n    <tr>\n      <th>Google Colab K80</th>\n      <td>Google Colab</td>\n      <td>K80</td>\n      <td>1</td>\n      <td>12.00</td>\n      <td>13</td>\n      <td>0.00</td>\n      <td>31.17</td>\n      <td>0.00</td>\n    </tr>\n    <tr>\n      <th>Google Cloud Compute Engine P100</th>\n      <td>Google Cloud Compute Engine</td>\n      <td>P100</td>\n      <td>6</td>\n      <td>16.00</td>\n      <td>20</td>\n      <td>0.50</td>\n      <td>5.32</td>\n      <td>0.04</td>\n    </tr>\n    <tr>\n      <th>Google Cloud Compute Engine K80</th>\n      <td>Google Cloud Compute Engine</td>\n      <td>K80</td>\n      <td>6</td>\n      <td>12.00</td>\n      <td>17</td>\n      <td>0.20</td>\n      <td>18.13</td>\n      <td>0.06</td>\n    </tr>\n    <tr>\n      <th>Google Cloud Compute Engine V100</th>\n      <td>Google Cloud Compute Engine</td>\n      <td>V100</td>\n      <td>8</td>\n      <td>16.00</td>\n      <td>20</td>\n      <td>0.82</td>\n      <td>3.83</td>\n      <td>0.05</td>\n    </tr>\n    <tr>\n      <th>Google Cloud Compute Engine P4</th>\n      <td>Google Cloud Compute Engine</td>\n      <td>P4</td>\n      <td>4</td>\n      <td>8.00</td>\n      <td>26</td>\n      <td>0.33</td>\n      <td>10.28</td>\n      <td>0.06</td>\n    </tr>\n    <tr>\n      <th>Google Cloud Compute Engine V100 x 2</th>\n      <td>Google Cloud Compute Engine</td>\n      <td>V100 x 2</td>\n      <td>8</td>\n      <td>32.00</td>\n      <td>30</td>\n      <td>1.57</td>\n      <td>3.63</td>\n      <td>0.10</td>\n    </tr>\n    <tr>\n      <th>Google Cloud Compute Engine V100 x 4</th>\n      <td>Google Cloud Compute Engine</td>\n      <td>V100 x 4</td>\n      <td>8</td>\n      <td>64.00</td>\n      <td>30</td>\n      <td>3.05</td>\n      <td>3.38</td>\n      <td>0.17</td>\n    </tr>\n    <tr>\n      <th>AWS EC2 K80 (p2.xlarge)</th>\n      <td>AWS EC2</td>\n      <td>K80 (p2.xlarge)</td>\n      <td>4</td>\n      <td>12.00</td>\n      <td>61</td>\n      <td>0.28</td>\n      <td>20.90</td>\n      <td>0.10</td>\n    </tr>\n    <tr>\n      <th>AWS EC2 K80 x 8 (p2.8xlarge)</th>\n      <td>AWS EC2</td>\n      <td>K80 x 8 (p2.8xlarge)</td>\n      <td>32</td>\n      <td>96.00</td>\n      <td>488</td>\n      <td>2.35</td>\n      <td>16.12</td>\n      <td>0.63</td>\n    </tr>\n    <tr>\n      <th>AWS EC2 V100 (p3.2xlarge)</th>\n      <td>AWS EC2</td>\n      <td>V100 (p3.2xlarge)</td>\n      <td>8</td>\n      <td>16.00</td>\n      <td>61</td>\n      <td>1.05</td>\n      <td>3.85</td>\n      <td>0.07</td>\n    </tr>\n    <tr>\n      <th>AWS EC2 V100 x 4 (p3.8xlarge)</th>\n      <td>AWS EC2</td>\n      <td>V100 x 4 (p3.8xlarge)</td>\n      <td>64</td>\n      <td>128.00</td>\n      <td>488</td>\n      <td>4.05</td>\n      <td>2.97</td>\n      <td>0.20</td>\n    </tr>\n    <tr>\n      <th>vast.ai GTX 1070 Ti</th>\n      <td>vast.ai</td>\n      <td>GTX 1070 Ti</td>\n      <td>4</td>\n      <td>8.10</td>\n      <td>16</td>\n      <td>0.06</td>\n      <td>7.23</td>\n      <td>0.01</td>\n    </tr>\n    <tr>\n      <th>Paperspace Quadro M4000</th>\n      <td>Paperspace</td>\n      <td>Quadro M4000</td>\n      <td>8</td>\n      <td>8.00</td>\n      <td>30</td>\n      <td>0.51</td>\n      <td>8.30</td>\n      <td>0.07</td>\n    </tr>\n    <tr>\n      <th>Amazon Sagemaker K80</th>\n      <td>Amazon Sagemaker</td>\n      <td>K80</td>\n      <td>4</td>\n      <td>12.00</td>\n      <td>61</td>\n      <td>1.26</td>\n      <td>16.12</td>\n      <td>0.34</td>\n    </tr>\n  </tbody>\n</table>\n</div>"
          },
          "metadata": {}
        }
      ]
    },
    {
      "metadata": {
        "_uuid": "3beca7e08c4bfea369b2bfbeaa3a97f6876bdf7b"
      },
      "cell_type": "markdown",
      "source": "# Cost to Train\nSort by cost to train."
    },
    {
      "metadata": {
        "trusted": true,
        "_uuid": "102f13db73597029fbe04496ca9c08abb5c9432f"
      },
      "cell_type": "code",
      "source": "df = df.sort_values(by = ['Cost to Train'])\ndf.head(5)",
      "execution_count": 10,
      "outputs": [
        {
          "output_type": "execute_result",
          "execution_count": 10,
          "data": {
            "text/plain": "                                                Cloud Service   NVIDIA GPU  \\\nfull                                                                         \nGoogle Colab K80                                 Google Colab          K80   \nvast.ai GTX 1070 Ti                                   vast.ai  GTX 1070 Ti   \nGoogle Cloud Compute Engine P100  Google Cloud Compute Engine         P100   \nGoogle Cloud Compute Engine V100  Google Cloud Compute Engine         V100   \nGoogle Cloud Compute Engine P4    Google Cloud Compute Engine           P4   \n\n                                  CPUs  GPU RAM   CPU RAM   Cost Per Hour  \\\nfull                                                                        \nGoogle Colab K80                     1     12.00        13           0.00   \nvast.ai GTX 1070 Ti                  4      8.10        16           0.06   \nGoogle Cloud Compute Engine P100     6     16.00        20           0.50   \nGoogle Cloud Compute Engine V100     8     16.00        20           0.82   \nGoogle Cloud Compute Engine P4       4      8.00        26           0.33   \n\n                                  Wall Time  Cost to Train  \nfull                                                        \nGoogle Colab K80                      31.17           0.00  \nvast.ai GTX 1070 Ti                    7.23           0.01  \nGoogle Cloud Compute Engine P100       5.32           0.04  \nGoogle Cloud Compute Engine V100       3.83           0.05  \nGoogle Cloud Compute Engine P4        10.28           0.06  ",
            "text/html": "<div>\n<style scoped>\n    .dataframe tbody tr th:only-of-type {\n        vertical-align: middle;\n    }\n\n    .dataframe tbody tr th {\n        vertical-align: top;\n    }\n\n    .dataframe thead th {\n        text-align: right;\n    }\n</style>\n<table border=\"1\" class=\"dataframe\">\n  <thead>\n    <tr style=\"text-align: right;\">\n      <th></th>\n      <th>Cloud Service</th>\n      <th>NVIDIA GPU</th>\n      <th>CPUs</th>\n      <th>GPU RAM</th>\n      <th>CPU RAM</th>\n      <th>Cost Per Hour</th>\n      <th>Wall Time</th>\n      <th>Cost to Train</th>\n    </tr>\n    <tr>\n      <th>full</th>\n      <th></th>\n      <th></th>\n      <th></th>\n      <th></th>\n      <th></th>\n      <th></th>\n      <th></th>\n      <th></th>\n    </tr>\n  </thead>\n  <tbody>\n    <tr>\n      <th>Google Colab K80</th>\n      <td>Google Colab</td>\n      <td>K80</td>\n      <td>1</td>\n      <td>12.00</td>\n      <td>13</td>\n      <td>0.00</td>\n      <td>31.17</td>\n      <td>0.00</td>\n    </tr>\n    <tr>\n      <th>vast.ai GTX 1070 Ti</th>\n      <td>vast.ai</td>\n      <td>GTX 1070 Ti</td>\n      <td>4</td>\n      <td>8.10</td>\n      <td>16</td>\n      <td>0.06</td>\n      <td>7.23</td>\n      <td>0.01</td>\n    </tr>\n    <tr>\n      <th>Google Cloud Compute Engine P100</th>\n      <td>Google Cloud Compute Engine</td>\n      <td>P100</td>\n      <td>6</td>\n      <td>16.00</td>\n      <td>20</td>\n      <td>0.50</td>\n      <td>5.32</td>\n      <td>0.04</td>\n    </tr>\n    <tr>\n      <th>Google Cloud Compute Engine V100</th>\n      <td>Google Cloud Compute Engine</td>\n      <td>V100</td>\n      <td>8</td>\n      <td>16.00</td>\n      <td>20</td>\n      <td>0.82</td>\n      <td>3.83</td>\n      <td>0.05</td>\n    </tr>\n    <tr>\n      <th>Google Cloud Compute Engine P4</th>\n      <td>Google Cloud Compute Engine</td>\n      <td>P4</td>\n      <td>4</td>\n      <td>8.00</td>\n      <td>26</td>\n      <td>0.33</td>\n      <td>10.28</td>\n      <td>0.06</td>\n    </tr>\n  </tbody>\n</table>\n</div>"
          },
          "metadata": {}
        }
      ]
    },
    {
      "metadata": {
        "_uuid": "83b6c1f7e7e6d4b5ffdb3ac6b18308315c177e58"
      },
      "cell_type": "markdown",
      "source": "Let's make our first chart in Plotly. Let's chart the cost to train."
    },
    {
      "metadata": {
        "trusted": true,
        "_uuid": "1618b865375cc9980afa45f2c7642699a7636ec5"
      },
      "cell_type": "code",
      "source": "cmax=200\ncmin=50\ncolor_s = np.linspace(cmin, cmax, 13)\n\ndata = [\n    go.Bar(\n        x=df.index,          \n        y=df['Cost to Train'],\n        marker=dict(\n            colorscale='Jet',\n            color=color_s,\n        ),\n    )\n]\n\nlayout = {\n    'title': 'Cost to Train',\n    'xaxis': {'title': 'Cloud Software', 'tickmode': 'linear'},\n    'yaxis': {'title': \"$ USD\"}\n}\n\nfig = go.Figure(data=data, layout=layout)\npy.iplot(fig)",
      "execution_count": 11,
      "outputs": [
        {
          "output_type": "display_data",
          "data": {
            "application/vnd.plotly.v1+json": {
              "data": [
                {
                  "marker": {
                    "color": [
                      50,
                      62.5,
                      75,
                      87.5,
                      100,
                      112.5,
                      125,
                      137.5,
                      150,
                      162.5,
                      175,
                      187.5,
                      200
                    ],
                    "colorscale": "Jet"
                  },
                  "x": [
                    "Google Colab K80",
                    "vast.ai GTX 1070 Ti",
                    "Google Cloud Compute Engine P100",
                    "Google Cloud Compute Engine V100",
                    "Google Cloud Compute Engine P4",
                    "Google Cloud Compute Engine K80",
                    "AWS EC2 V100 (p3.2xlarge)",
                    "Paperspace Quadro M4000",
                    "Google Cloud Compute Engine V100 x 2",
                    "AWS EC2 K80 (p2.xlarge)",
                    "Google Cloud Compute Engine V100 x 4  ",
                    "AWS EC2 V100 x 4 (p3.8xlarge)",
                    "Amazon Sagemaker K80",
                    "AWS EC2 K80 x 8 (p2.8xlarge)"
                  ],
                  "y": [
                    0,
                    0.008,
                    0.044000000000000004,
                    0.052000000000000005,
                    0.057,
                    0.06,
                    0.067,
                    0.071,
                    0.095,
                    0.098,
                    0.172,
                    0.2,
                    0.33799999999999997,
                    0.631
                  ],
                  "type": "bar",
                  "uid": "bf56a46d-9d5e-4abe-ab92-d42c61a6000f"
                }
              ],
              "layout": {
                "title": {
                  "text": "Cost to Train"
                },
                "xaxis": {
                  "tickmode": "linear",
                  "title": {
                    "text": "Cloud Software"
                  }
                },
                "yaxis": {
                  "title": {
                    "text": "$ USD"
                  }
                }
              },
              "config": {
                "showLink": false,
                "linkText": "Export to plot.ly",
                "plotlyServerURL": "https://plot.ly"
              }
            },
            "text/html": "<div id=\"8e5ce5a6-b262-43bb-b08b-2236cbd17c7a\" style=\"height: 525px; width: 100%;\" class=\"plotly-graph-div\"></div><script type=\"text/javascript\">require([\"plotly\"], function(Plotly) { window.PLOTLYENV=window.PLOTLYENV || {};window.PLOTLYENV.BASE_URL=\"https://plot.ly\";Plotly.newPlot(\"8e5ce5a6-b262-43bb-b08b-2236cbd17c7a\", [{\"marker\": {\"color\": [50.0, 62.5, 75.0, 87.5, 100.0, 112.5, 125.0, 137.5, 150.0, 162.5, 175.0, 187.5, 200.0], \"colorscale\": \"Jet\"}, \"x\": [\"Google Colab K80\", \"vast.ai GTX 1070 Ti\", \"Google Cloud Compute Engine P100\", \"Google Cloud Compute Engine V100\", \"Google Cloud Compute Engine P4\", \"Google Cloud Compute Engine K80\", \"AWS EC2 V100 (p3.2xlarge)\", \"Paperspace Quadro M4000\", \"Google Cloud Compute Engine V100 x 2\", \"AWS EC2 K80 (p2.xlarge)\", \"Google Cloud Compute Engine V100 x 4  \", \"AWS EC2 V100 x 4 (p3.8xlarge)\", \"Amazon Sagemaker K80\", \"AWS EC2 K80 x 8 (p2.8xlarge)\"], \"y\": [0.0, 0.008, 0.044000000000000004, 0.052000000000000005, 0.057, 0.06, 0.067, 0.071, 0.095, 0.098, 0.172, 0.2, 0.33799999999999997, 0.631], \"type\": \"bar\", \"uid\": \"bf56a46d-9d5e-4abe-ab92-d42c61a6000f\"}], {\"title\": {\"text\": \"Cost to Train\"}, \"xaxis\": {\"tickmode\": \"linear\", \"title\": {\"text\": \"Cloud Software\"}}, \"yaxis\": {\"title\": {\"text\": \"$ USD\"}}}, {\"showLink\": false, \"linkText\": \"Export to plot.ly\", \"plotlyServerURL\": \"https://plot.ly\"})});</script><script type=\"text/javascript\">window.addEventListener(\"resize\", function(){window._Plotly.Plots.resize(document.getElementById(\"8e5ce5a6-b262-43bb-b08b-2236cbd17c7a\"));});</script>",
            "text/vnd.plotly.v1+html": "<div id=\"8e5ce5a6-b262-43bb-b08b-2236cbd17c7a\" style=\"height: 525px; width: 100%;\" class=\"plotly-graph-div\"></div><script type=\"text/javascript\">require([\"plotly\"], function(Plotly) { window.PLOTLYENV=window.PLOTLYENV || {};window.PLOTLYENV.BASE_URL=\"https://plot.ly\";Plotly.newPlot(\"8e5ce5a6-b262-43bb-b08b-2236cbd17c7a\", [{\"marker\": {\"color\": [50.0, 62.5, 75.0, 87.5, 100.0, 112.5, 125.0, 137.5, 150.0, 162.5, 175.0, 187.5, 200.0], \"colorscale\": \"Jet\"}, \"x\": [\"Google Colab K80\", \"vast.ai GTX 1070 Ti\", \"Google Cloud Compute Engine P100\", \"Google Cloud Compute Engine V100\", \"Google Cloud Compute Engine P4\", \"Google Cloud Compute Engine K80\", \"AWS EC2 V100 (p3.2xlarge)\", \"Paperspace Quadro M4000\", \"Google Cloud Compute Engine V100 x 2\", \"AWS EC2 K80 (p2.xlarge)\", \"Google Cloud Compute Engine V100 x 4  \", \"AWS EC2 V100 x 4 (p3.8xlarge)\", \"Amazon Sagemaker K80\", \"AWS EC2 K80 x 8 (p2.8xlarge)\"], \"y\": [0.0, 0.008, 0.044000000000000004, 0.052000000000000005, 0.057, 0.06, 0.067, 0.071, 0.095, 0.098, 0.172, 0.2, 0.33799999999999997, 0.631], \"type\": \"bar\", \"uid\": \"bf56a46d-9d5e-4abe-ab92-d42c61a6000f\"}], {\"title\": {\"text\": \"Cost to Train\"}, \"xaxis\": {\"tickmode\": \"linear\", \"title\": {\"text\": \"Cloud Software\"}}, \"yaxis\": {\"title\": {\"text\": \"$ USD\"}}}, {\"showLink\": false, \"linkText\": \"Export to plot.ly\", \"plotlyServerURL\": \"https://plot.ly\"})});</script><script type=\"text/javascript\">window.addEventListener(\"resize\", function(){window._Plotly.Plots.resize(document.getElementById(\"8e5ce5a6-b262-43bb-b08b-2236cbd17c7a\"));});</script>"
          },
          "metadata": {}
        }
      ]
    },
    {
      "metadata": {
        "_uuid": "36885850d202bd93eab14f57f448171883ade67a"
      },
      "cell_type": "markdown",
      "source": "Let's see how the chart looks if we take off the two non-competitive AWS instances."
    },
    {
      "metadata": {
        "trusted": true,
        "_uuid": "eb94e090029fbadadce657d485891942e4f02121"
      },
      "cell_type": "code",
      "source": "df = df.iloc[:-2]\ndf",
      "execution_count": 12,
      "outputs": [
        {
          "output_type": "execute_result",
          "execution_count": 12,
          "data": {
            "text/plain": "                                                      Cloud Service  \\\nfull                                                                  \nGoogle Colab K80                                       Google Colab   \nvast.ai GTX 1070 Ti                                         vast.ai   \nGoogle Cloud Compute Engine P100        Google Cloud Compute Engine   \nGoogle Cloud Compute Engine V100        Google Cloud Compute Engine   \nGoogle Cloud Compute Engine P4          Google Cloud Compute Engine   \nGoogle Cloud Compute Engine K80         Google Cloud Compute Engine   \nAWS EC2 V100 (p3.2xlarge)                                   AWS EC2   \nPaperspace Quadro M4000                                  Paperspace   \nGoogle Cloud Compute Engine V100 x 2    Google Cloud Compute Engine   \nAWS EC2 K80 (p2.xlarge)                                     AWS EC2   \nGoogle Cloud Compute Engine V100 x 4    Google Cloud Compute Engine   \nAWS EC2 V100 x 4 (p3.8xlarge)                               AWS EC2   \n\n                                                   NVIDIA GPU  CPUs  GPU RAM   \\\nfull                                                                            \nGoogle Colab K80                                          K80     1     12.00   \nvast.ai GTX 1070 Ti                               GTX 1070 Ti     4      8.10   \nGoogle Cloud Compute Engine P100                         P100     6     16.00   \nGoogle Cloud Compute Engine V100                         V100     8     16.00   \nGoogle Cloud Compute Engine P4                             P4     4      8.00   \nGoogle Cloud Compute Engine K80                           K80     6     12.00   \nAWS EC2 V100 (p3.2xlarge)                   V100 (p3.2xlarge)     8     16.00   \nPaperspace Quadro M4000                          Quadro M4000     8      8.00   \nGoogle Cloud Compute Engine V100 x 2                 V100 x 2     8     32.00   \nAWS EC2 K80 (p2.xlarge)                       K80 (p2.xlarge)     4     12.00   \nGoogle Cloud Compute Engine V100 x 4               V100 x 4       8     64.00   \nAWS EC2 V100 x 4 (p3.8xlarge)           V100 x 4 (p3.8xlarge)    64    128.00   \n\n                                        CPU RAM   Cost Per Hour  Wall Time  \\\nfull                                                                         \nGoogle Colab K80                              13           0.00      31.17   \nvast.ai GTX 1070 Ti                           16           0.06       7.23   \nGoogle Cloud Compute Engine P100              20           0.50       5.32   \nGoogle Cloud Compute Engine V100              20           0.82       3.83   \nGoogle Cloud Compute Engine P4                26           0.33      10.28   \nGoogle Cloud Compute Engine K80               17           0.20      18.13   \nAWS EC2 V100 (p3.2xlarge)                     61           1.05       3.85   \nPaperspace Quadro M4000                       30           0.51       8.30   \nGoogle Cloud Compute Engine V100 x 2          30           1.57       3.63   \nAWS EC2 K80 (p2.xlarge)                       61           0.28      20.90   \nGoogle Cloud Compute Engine V100 x 4          30           3.05       3.38   \nAWS EC2 V100 x 4 (p3.8xlarge)                488           4.05       2.97   \n\n                                        Cost to Train  \nfull                                                   \nGoogle Colab K80                                 0.00  \nvast.ai GTX 1070 Ti                              0.01  \nGoogle Cloud Compute Engine P100                 0.04  \nGoogle Cloud Compute Engine V100                 0.05  \nGoogle Cloud Compute Engine P4                   0.06  \nGoogle Cloud Compute Engine K80                  0.06  \nAWS EC2 V100 (p3.2xlarge)                        0.07  \nPaperspace Quadro M4000                          0.07  \nGoogle Cloud Compute Engine V100 x 2             0.10  \nAWS EC2 K80 (p2.xlarge)                          0.10  \nGoogle Cloud Compute Engine V100 x 4             0.17  \nAWS EC2 V100 x 4 (p3.8xlarge)                    0.20  ",
            "text/html": "<div>\n<style scoped>\n    .dataframe tbody tr th:only-of-type {\n        vertical-align: middle;\n    }\n\n    .dataframe tbody tr th {\n        vertical-align: top;\n    }\n\n    .dataframe thead th {\n        text-align: right;\n    }\n</style>\n<table border=\"1\" class=\"dataframe\">\n  <thead>\n    <tr style=\"text-align: right;\">\n      <th></th>\n      <th>Cloud Service</th>\n      <th>NVIDIA GPU</th>\n      <th>CPUs</th>\n      <th>GPU RAM</th>\n      <th>CPU RAM</th>\n      <th>Cost Per Hour</th>\n      <th>Wall Time</th>\n      <th>Cost to Train</th>\n    </tr>\n    <tr>\n      <th>full</th>\n      <th></th>\n      <th></th>\n      <th></th>\n      <th></th>\n      <th></th>\n      <th></th>\n      <th></th>\n      <th></th>\n    </tr>\n  </thead>\n  <tbody>\n    <tr>\n      <th>Google Colab K80</th>\n      <td>Google Colab</td>\n      <td>K80</td>\n      <td>1</td>\n      <td>12.00</td>\n      <td>13</td>\n      <td>0.00</td>\n      <td>31.17</td>\n      <td>0.00</td>\n    </tr>\n    <tr>\n      <th>vast.ai GTX 1070 Ti</th>\n      <td>vast.ai</td>\n      <td>GTX 1070 Ti</td>\n      <td>4</td>\n      <td>8.10</td>\n      <td>16</td>\n      <td>0.06</td>\n      <td>7.23</td>\n      <td>0.01</td>\n    </tr>\n    <tr>\n      <th>Google Cloud Compute Engine P100</th>\n      <td>Google Cloud Compute Engine</td>\n      <td>P100</td>\n      <td>6</td>\n      <td>16.00</td>\n      <td>20</td>\n      <td>0.50</td>\n      <td>5.32</td>\n      <td>0.04</td>\n    </tr>\n    <tr>\n      <th>Google Cloud Compute Engine V100</th>\n      <td>Google Cloud Compute Engine</td>\n      <td>V100</td>\n      <td>8</td>\n      <td>16.00</td>\n      <td>20</td>\n      <td>0.82</td>\n      <td>3.83</td>\n      <td>0.05</td>\n    </tr>\n    <tr>\n      <th>Google Cloud Compute Engine P4</th>\n      <td>Google Cloud Compute Engine</td>\n      <td>P4</td>\n      <td>4</td>\n      <td>8.00</td>\n      <td>26</td>\n      <td>0.33</td>\n      <td>10.28</td>\n      <td>0.06</td>\n    </tr>\n    <tr>\n      <th>Google Cloud Compute Engine K80</th>\n      <td>Google Cloud Compute Engine</td>\n      <td>K80</td>\n      <td>6</td>\n      <td>12.00</td>\n      <td>17</td>\n      <td>0.20</td>\n      <td>18.13</td>\n      <td>0.06</td>\n    </tr>\n    <tr>\n      <th>AWS EC2 V100 (p3.2xlarge)</th>\n      <td>AWS EC2</td>\n      <td>V100 (p3.2xlarge)</td>\n      <td>8</td>\n      <td>16.00</td>\n      <td>61</td>\n      <td>1.05</td>\n      <td>3.85</td>\n      <td>0.07</td>\n    </tr>\n    <tr>\n      <th>Paperspace Quadro M4000</th>\n      <td>Paperspace</td>\n      <td>Quadro M4000</td>\n      <td>8</td>\n      <td>8.00</td>\n      <td>30</td>\n      <td>0.51</td>\n      <td>8.30</td>\n      <td>0.07</td>\n    </tr>\n    <tr>\n      <th>Google Cloud Compute Engine V100 x 2</th>\n      <td>Google Cloud Compute Engine</td>\n      <td>V100 x 2</td>\n      <td>8</td>\n      <td>32.00</td>\n      <td>30</td>\n      <td>1.57</td>\n      <td>3.63</td>\n      <td>0.10</td>\n    </tr>\n    <tr>\n      <th>AWS EC2 K80 (p2.xlarge)</th>\n      <td>AWS EC2</td>\n      <td>K80 (p2.xlarge)</td>\n      <td>4</td>\n      <td>12.00</td>\n      <td>61</td>\n      <td>0.28</td>\n      <td>20.90</td>\n      <td>0.10</td>\n    </tr>\n    <tr>\n      <th>Google Cloud Compute Engine V100 x 4</th>\n      <td>Google Cloud Compute Engine</td>\n      <td>V100 x 4</td>\n      <td>8</td>\n      <td>64.00</td>\n      <td>30</td>\n      <td>3.05</td>\n      <td>3.38</td>\n      <td>0.17</td>\n    </tr>\n    <tr>\n      <th>AWS EC2 V100 x 4 (p3.8xlarge)</th>\n      <td>AWS EC2</td>\n      <td>V100 x 4 (p3.8xlarge)</td>\n      <td>64</td>\n      <td>128.00</td>\n      <td>488</td>\n      <td>4.05</td>\n      <td>2.97</td>\n      <td>0.20</td>\n    </tr>\n  </tbody>\n</table>\n</div>"
          },
          "metadata": {}
        }
      ]
    },
    {
      "metadata": {
        "_uuid": "3822d07dfbc1d24c3fff63bfd3e3fecfe9385519"
      },
      "cell_type": "markdown",
      "source": "We neeed some shorter labels."
    },
    {
      "metadata": {
        "trusted": true,
        "_uuid": "14677d653d74da095e6a261c4db666d8988f3a9e"
      },
      "cell_type": "code",
      "source": "labs = [\n    'Google Colab K80',\n    'vast.ai GTX1070Ti',\n    'GCP P100',\n    'GCP V100',\n    'GCP P4',\n    'GCP K80',\n    'AWS EC2 V100',\n    'Paperspace M4000',\n    'GCP V100 x2',\n    'AWS EC2 K80',\n    'GCP V100 x4',\n    'AWS EC2 V100 x4',\n]\n\nlen(labs)",
      "execution_count": 13,
      "outputs": [
        {
          "output_type": "execute_result",
          "execution_count": 13,
          "data": {
            "text/plain": "12"
          },
          "metadata": {}
        }
      ]
    },
    {
      "metadata": {
        "trusted": true,
        "_uuid": "4d6c006901e86ec381ad906cd9b3a145c734639b"
      },
      "cell_type": "code",
      "source": "df['short_names'] = labs\ndf",
      "execution_count": 14,
      "outputs": [
        {
          "output_type": "execute_result",
          "execution_count": 14,
          "data": {
            "text/plain": "                                                      Cloud Service  \\\nfull                                                                  \nGoogle Colab K80                                       Google Colab   \nvast.ai GTX 1070 Ti                                         vast.ai   \nGoogle Cloud Compute Engine P100        Google Cloud Compute Engine   \nGoogle Cloud Compute Engine V100        Google Cloud Compute Engine   \nGoogle Cloud Compute Engine P4          Google Cloud Compute Engine   \nGoogle Cloud Compute Engine K80         Google Cloud Compute Engine   \nAWS EC2 V100 (p3.2xlarge)                                   AWS EC2   \nPaperspace Quadro M4000                                  Paperspace   \nGoogle Cloud Compute Engine V100 x 2    Google Cloud Compute Engine   \nAWS EC2 K80 (p2.xlarge)                                     AWS EC2   \nGoogle Cloud Compute Engine V100 x 4    Google Cloud Compute Engine   \nAWS EC2 V100 x 4 (p3.8xlarge)                               AWS EC2   \n\n                                                   NVIDIA GPU  CPUs  GPU RAM   \\\nfull                                                                            \nGoogle Colab K80                                          K80     1     12.00   \nvast.ai GTX 1070 Ti                               GTX 1070 Ti     4      8.10   \nGoogle Cloud Compute Engine P100                         P100     6     16.00   \nGoogle Cloud Compute Engine V100                         V100     8     16.00   \nGoogle Cloud Compute Engine P4                             P4     4      8.00   \nGoogle Cloud Compute Engine K80                           K80     6     12.00   \nAWS EC2 V100 (p3.2xlarge)                   V100 (p3.2xlarge)     8     16.00   \nPaperspace Quadro M4000                          Quadro M4000     8      8.00   \nGoogle Cloud Compute Engine V100 x 2                 V100 x 2     8     32.00   \nAWS EC2 K80 (p2.xlarge)                       K80 (p2.xlarge)     4     12.00   \nGoogle Cloud Compute Engine V100 x 4               V100 x 4       8     64.00   \nAWS EC2 V100 x 4 (p3.8xlarge)           V100 x 4 (p3.8xlarge)    64    128.00   \n\n                                        CPU RAM   Cost Per Hour  Wall Time  \\\nfull                                                                         \nGoogle Colab K80                              13           0.00      31.17   \nvast.ai GTX 1070 Ti                           16           0.06       7.23   \nGoogle Cloud Compute Engine P100              20           0.50       5.32   \nGoogle Cloud Compute Engine V100              20           0.82       3.83   \nGoogle Cloud Compute Engine P4                26           0.33      10.28   \nGoogle Cloud Compute Engine K80               17           0.20      18.13   \nAWS EC2 V100 (p3.2xlarge)                     61           1.05       3.85   \nPaperspace Quadro M4000                       30           0.51       8.30   \nGoogle Cloud Compute Engine V100 x 2          30           1.57       3.63   \nAWS EC2 K80 (p2.xlarge)                       61           0.28      20.90   \nGoogle Cloud Compute Engine V100 x 4          30           3.05       3.38   \nAWS EC2 V100 x 4 (p3.8xlarge)                488           4.05       2.97   \n\n                                        Cost to Train        short_names  \nfull                                                                      \nGoogle Colab K80                                 0.00   Google Colab K80  \nvast.ai GTX 1070 Ti                              0.01  vast.ai GTX1070Ti  \nGoogle Cloud Compute Engine P100                 0.04           GCP P100  \nGoogle Cloud Compute Engine V100                 0.05           GCP V100  \nGoogle Cloud Compute Engine P4                   0.06             GCP P4  \nGoogle Cloud Compute Engine K80                  0.06            GCP K80  \nAWS EC2 V100 (p3.2xlarge)                        0.07       AWS EC2 V100  \nPaperspace Quadro M4000                          0.07   Paperspace M4000  \nGoogle Cloud Compute Engine V100 x 2             0.10        GCP V100 x2  \nAWS EC2 K80 (p2.xlarge)                          0.10        AWS EC2 K80  \nGoogle Cloud Compute Engine V100 x 4             0.17        GCP V100 x4  \nAWS EC2 V100 x 4 (p3.8xlarge)                    0.20    AWS EC2 V100 x4  ",
            "text/html": "<div>\n<style scoped>\n    .dataframe tbody tr th:only-of-type {\n        vertical-align: middle;\n    }\n\n    .dataframe tbody tr th {\n        vertical-align: top;\n    }\n\n    .dataframe thead th {\n        text-align: right;\n    }\n</style>\n<table border=\"1\" class=\"dataframe\">\n  <thead>\n    <tr style=\"text-align: right;\">\n      <th></th>\n      <th>Cloud Service</th>\n      <th>NVIDIA GPU</th>\n      <th>CPUs</th>\n      <th>GPU RAM</th>\n      <th>CPU RAM</th>\n      <th>Cost Per Hour</th>\n      <th>Wall Time</th>\n      <th>Cost to Train</th>\n      <th>short_names</th>\n    </tr>\n    <tr>\n      <th>full</th>\n      <th></th>\n      <th></th>\n      <th></th>\n      <th></th>\n      <th></th>\n      <th></th>\n      <th></th>\n      <th></th>\n      <th></th>\n    </tr>\n  </thead>\n  <tbody>\n    <tr>\n      <th>Google Colab K80</th>\n      <td>Google Colab</td>\n      <td>K80</td>\n      <td>1</td>\n      <td>12.00</td>\n      <td>13</td>\n      <td>0.00</td>\n      <td>31.17</td>\n      <td>0.00</td>\n      <td>Google Colab K80</td>\n    </tr>\n    <tr>\n      <th>vast.ai GTX 1070 Ti</th>\n      <td>vast.ai</td>\n      <td>GTX 1070 Ti</td>\n      <td>4</td>\n      <td>8.10</td>\n      <td>16</td>\n      <td>0.06</td>\n      <td>7.23</td>\n      <td>0.01</td>\n      <td>vast.ai GTX1070Ti</td>\n    </tr>\n    <tr>\n      <th>Google Cloud Compute Engine P100</th>\n      <td>Google Cloud Compute Engine</td>\n      <td>P100</td>\n      <td>6</td>\n      <td>16.00</td>\n      <td>20</td>\n      <td>0.50</td>\n      <td>5.32</td>\n      <td>0.04</td>\n      <td>GCP P100</td>\n    </tr>\n    <tr>\n      <th>Google Cloud Compute Engine V100</th>\n      <td>Google Cloud Compute Engine</td>\n      <td>V100</td>\n      <td>8</td>\n      <td>16.00</td>\n      <td>20</td>\n      <td>0.82</td>\n      <td>3.83</td>\n      <td>0.05</td>\n      <td>GCP V100</td>\n    </tr>\n    <tr>\n      <th>Google Cloud Compute Engine P4</th>\n      <td>Google Cloud Compute Engine</td>\n      <td>P4</td>\n      <td>4</td>\n      <td>8.00</td>\n      <td>26</td>\n      <td>0.33</td>\n      <td>10.28</td>\n      <td>0.06</td>\n      <td>GCP P4</td>\n    </tr>\n    <tr>\n      <th>Google Cloud Compute Engine K80</th>\n      <td>Google Cloud Compute Engine</td>\n      <td>K80</td>\n      <td>6</td>\n      <td>12.00</td>\n      <td>17</td>\n      <td>0.20</td>\n      <td>18.13</td>\n      <td>0.06</td>\n      <td>GCP K80</td>\n    </tr>\n    <tr>\n      <th>AWS EC2 V100 (p3.2xlarge)</th>\n      <td>AWS EC2</td>\n      <td>V100 (p3.2xlarge)</td>\n      <td>8</td>\n      <td>16.00</td>\n      <td>61</td>\n      <td>1.05</td>\n      <td>3.85</td>\n      <td>0.07</td>\n      <td>AWS EC2 V100</td>\n    </tr>\n    <tr>\n      <th>Paperspace Quadro M4000</th>\n      <td>Paperspace</td>\n      <td>Quadro M4000</td>\n      <td>8</td>\n      <td>8.00</td>\n      <td>30</td>\n      <td>0.51</td>\n      <td>8.30</td>\n      <td>0.07</td>\n      <td>Paperspace M4000</td>\n    </tr>\n    <tr>\n      <th>Google Cloud Compute Engine V100 x 2</th>\n      <td>Google Cloud Compute Engine</td>\n      <td>V100 x 2</td>\n      <td>8</td>\n      <td>32.00</td>\n      <td>30</td>\n      <td>1.57</td>\n      <td>3.63</td>\n      <td>0.10</td>\n      <td>GCP V100 x2</td>\n    </tr>\n    <tr>\n      <th>AWS EC2 K80 (p2.xlarge)</th>\n      <td>AWS EC2</td>\n      <td>K80 (p2.xlarge)</td>\n      <td>4</td>\n      <td>12.00</td>\n      <td>61</td>\n      <td>0.28</td>\n      <td>20.90</td>\n      <td>0.10</td>\n      <td>AWS EC2 K80</td>\n    </tr>\n    <tr>\n      <th>Google Cloud Compute Engine V100 x 4</th>\n      <td>Google Cloud Compute Engine</td>\n      <td>V100 x 4</td>\n      <td>8</td>\n      <td>64.00</td>\n      <td>30</td>\n      <td>3.05</td>\n      <td>3.38</td>\n      <td>0.17</td>\n      <td>GCP V100 x4</td>\n    </tr>\n    <tr>\n      <th>AWS EC2 V100 x 4 (p3.8xlarge)</th>\n      <td>AWS EC2</td>\n      <td>V100 x 4 (p3.8xlarge)</td>\n      <td>64</td>\n      <td>128.00</td>\n      <td>488</td>\n      <td>4.05</td>\n      <td>2.97</td>\n      <td>0.20</td>\n      <td>AWS EC2 V100 x4</td>\n    </tr>\n  </tbody>\n</table>\n</div>"
          },
          "metadata": {}
        }
      ]
    },
    {
      "metadata": {
        "trusted": true,
        "_uuid": "d023b44d846ffb64ea77bf4b41ab4a31ebbdbaf3"
      },
      "cell_type": "code",
      "source": "cmax=200\ncmin=50\ncolor_s = np.linspace(cmin, cmax, 12)\n\ndata = [\n    go.Bar(\n        x=df.short_names,          \n        y=df['Cost to Train'],\n        marker=dict(\n            colorscale='Jet',\n            # cauto=True,\n            color=color_s,\n        ),\n    )\n]\n\nlayout = {\n    'title': 'Cost to Train',\n    'xaxis': {'title': 'Cloud Software', 'tickmode': 'linear'},\n    'yaxis': {'title': \"$ USD\"}\n}\n\nfig = go.Figure(data=data, layout=layout)\npy.iplot(fig)",
      "execution_count": 15,
      "outputs": [
        {
          "output_type": "display_data",
          "data": {
            "application/vnd.plotly.v1+json": {
              "data": [
                {
                  "marker": {
                    "color": [
                      50,
                      63.63636363636364,
                      77.27272727272728,
                      90.9090909090909,
                      104.54545454545455,
                      118.18181818181819,
                      131.8181818181818,
                      145.45454545454544,
                      159.0909090909091,
                      172.72727272727275,
                      186.36363636363637,
                      200
                    ],
                    "colorscale": "Jet"
                  },
                  "x": [
                    "Google Colab K80",
                    "vast.ai GTX1070Ti",
                    "GCP P100",
                    "GCP V100",
                    "GCP P4",
                    "GCP K80",
                    "AWS EC2 V100",
                    "Paperspace M4000",
                    "GCP V100 x2",
                    "AWS EC2 K80",
                    "GCP V100 x4",
                    "AWS EC2 V100 x4"
                  ],
                  "y": [
                    0,
                    0.008,
                    0.044000000000000004,
                    0.052000000000000005,
                    0.057,
                    0.06,
                    0.067,
                    0.071,
                    0.095,
                    0.098,
                    0.172,
                    0.2
                  ],
                  "type": "bar",
                  "uid": "542faf81-1af3-4f8e-8871-9530bf43352b"
                }
              ],
              "layout": {
                "title": {
                  "text": "Cost to Train"
                },
                "xaxis": {
                  "tickmode": "linear",
                  "title": {
                    "text": "Cloud Software"
                  }
                },
                "yaxis": {
                  "title": {
                    "text": "$ USD"
                  }
                }
              },
              "config": {
                "showLink": false,
                "linkText": "Export to plot.ly",
                "plotlyServerURL": "https://plot.ly"
              }
            },
            "text/html": "<div id=\"c77e3f0d-2c1c-4000-8ee9-c231bcd9f215\" style=\"height: 525px; width: 100%;\" class=\"plotly-graph-div\"></div><script type=\"text/javascript\">require([\"plotly\"], function(Plotly) { window.PLOTLYENV=window.PLOTLYENV || {};window.PLOTLYENV.BASE_URL=\"https://plot.ly\";Plotly.newPlot(\"c77e3f0d-2c1c-4000-8ee9-c231bcd9f215\", [{\"marker\": {\"color\": [50.0, 63.63636363636364, 77.27272727272728, 90.9090909090909, 104.54545454545455, 118.18181818181819, 131.8181818181818, 145.45454545454544, 159.0909090909091, 172.72727272727275, 186.36363636363637, 200.0], \"colorscale\": \"Jet\"}, \"x\": [\"Google Colab K80\", \"vast.ai GTX1070Ti\", \"GCP P100\", \"GCP V100\", \"GCP P4\", \"GCP K80\", \"AWS EC2 V100\", \"Paperspace M4000\", \"GCP V100 x2\", \"AWS EC2 K80\", \"GCP V100 x4\", \"AWS EC2 V100 x4\"], \"y\": [0.0, 0.008, 0.044000000000000004, 0.052000000000000005, 0.057, 0.06, 0.067, 0.071, 0.095, 0.098, 0.172, 0.2], \"type\": \"bar\", \"uid\": \"542faf81-1af3-4f8e-8871-9530bf43352b\"}], {\"title\": {\"text\": \"Cost to Train\"}, \"xaxis\": {\"tickmode\": \"linear\", \"title\": {\"text\": \"Cloud Software\"}}, \"yaxis\": {\"title\": {\"text\": \"$ USD\"}}}, {\"showLink\": false, \"linkText\": \"Export to plot.ly\", \"plotlyServerURL\": \"https://plot.ly\"})});</script><script type=\"text/javascript\">window.addEventListener(\"resize\", function(){window._Plotly.Plots.resize(document.getElementById(\"c77e3f0d-2c1c-4000-8ee9-c231bcd9f215\"));});</script>",
            "text/vnd.plotly.v1+html": "<div id=\"c77e3f0d-2c1c-4000-8ee9-c231bcd9f215\" style=\"height: 525px; width: 100%;\" class=\"plotly-graph-div\"></div><script type=\"text/javascript\">require([\"plotly\"], function(Plotly) { window.PLOTLYENV=window.PLOTLYENV || {};window.PLOTLYENV.BASE_URL=\"https://plot.ly\";Plotly.newPlot(\"c77e3f0d-2c1c-4000-8ee9-c231bcd9f215\", [{\"marker\": {\"color\": [50.0, 63.63636363636364, 77.27272727272728, 90.9090909090909, 104.54545454545455, 118.18181818181819, 131.8181818181818, 145.45454545454544, 159.0909090909091, 172.72727272727275, 186.36363636363637, 200.0], \"colorscale\": \"Jet\"}, \"x\": [\"Google Colab K80\", \"vast.ai GTX1070Ti\", \"GCP P100\", \"GCP V100\", \"GCP P4\", \"GCP K80\", \"AWS EC2 V100\", \"Paperspace M4000\", \"GCP V100 x2\", \"AWS EC2 K80\", \"GCP V100 x4\", \"AWS EC2 V100 x4\"], \"y\": [0.0, 0.008, 0.044000000000000004, 0.052000000000000005, 0.057, 0.06, 0.067, 0.071, 0.095, 0.098, 0.172, 0.2], \"type\": \"bar\", \"uid\": \"542faf81-1af3-4f8e-8871-9530bf43352b\"}], {\"title\": {\"text\": \"Cost to Train\"}, \"xaxis\": {\"tickmode\": \"linear\", \"title\": {\"text\": \"Cloud Software\"}}, \"yaxis\": {\"title\": {\"text\": \"$ USD\"}}}, {\"showLink\": false, \"linkText\": \"Export to plot.ly\", \"plotlyServerURL\": \"https://plot.ly\"})});</script><script type=\"text/javascript\">window.addEventListener(\"resize\", function(){window._Plotly.Plots.resize(document.getElementById(\"c77e3f0d-2c1c-4000-8ee9-c231bcd9f215\"));});</script>"
          },
          "metadata": {}
        }
      ]
    },
    {
      "metadata": {
        "_uuid": "c32d19a6f589d36c55913e5830a91094bc2188a4"
      },
      "cell_type": "markdown",
      "source": "That looks better."
    },
    {
      "metadata": {
        "_uuid": "f4b744bc53885121bb6eb101b14b4e122ad11600"
      },
      "cell_type": "markdown",
      "source": "# Speed to train\nLet's look at training time."
    },
    {
      "metadata": {
        "trusted": true,
        "_uuid": "3a902d51060d8484ce97028f6d1abce7f0d215cc"
      },
      "cell_type": "code",
      "source": "df = df.sort_values(by = ['Wall Time'])\ndf",
      "execution_count": 16,
      "outputs": [
        {
          "output_type": "execute_result",
          "execution_count": 16,
          "data": {
            "text/plain": "                                                      Cloud Service  \\\nfull                                                                  \nAWS EC2 V100 x 4 (p3.8xlarge)                               AWS EC2   \nGoogle Cloud Compute Engine V100 x 4    Google Cloud Compute Engine   \nGoogle Cloud Compute Engine V100 x 2    Google Cloud Compute Engine   \nGoogle Cloud Compute Engine V100        Google Cloud Compute Engine   \nAWS EC2 V100 (p3.2xlarge)                                   AWS EC2   \nGoogle Cloud Compute Engine P100        Google Cloud Compute Engine   \nvast.ai GTX 1070 Ti                                         vast.ai   \nPaperspace Quadro M4000                                  Paperspace   \nGoogle Cloud Compute Engine P4          Google Cloud Compute Engine   \nGoogle Cloud Compute Engine K80         Google Cloud Compute Engine   \nAWS EC2 K80 (p2.xlarge)                                     AWS EC2   \nGoogle Colab K80                                       Google Colab   \n\n                                                   NVIDIA GPU  CPUs  GPU RAM   \\\nfull                                                                            \nAWS EC2 V100 x 4 (p3.8xlarge)           V100 x 4 (p3.8xlarge)    64    128.00   \nGoogle Cloud Compute Engine V100 x 4               V100 x 4       8     64.00   \nGoogle Cloud Compute Engine V100 x 2                 V100 x 2     8     32.00   \nGoogle Cloud Compute Engine V100                         V100     8     16.00   \nAWS EC2 V100 (p3.2xlarge)                   V100 (p3.2xlarge)     8     16.00   \nGoogle Cloud Compute Engine P100                         P100     6     16.00   \nvast.ai GTX 1070 Ti                               GTX 1070 Ti     4      8.10   \nPaperspace Quadro M4000                          Quadro M4000     8      8.00   \nGoogle Cloud Compute Engine P4                             P4     4      8.00   \nGoogle Cloud Compute Engine K80                           K80     6     12.00   \nAWS EC2 K80 (p2.xlarge)                       K80 (p2.xlarge)     4     12.00   \nGoogle Colab K80                                          K80     1     12.00   \n\n                                        CPU RAM   Cost Per Hour  Wall Time  \\\nfull                                                                         \nAWS EC2 V100 x 4 (p3.8xlarge)                488           4.05       2.97   \nGoogle Cloud Compute Engine V100 x 4          30           3.05       3.38   \nGoogle Cloud Compute Engine V100 x 2          30           1.57       3.63   \nGoogle Cloud Compute Engine V100              20           0.82       3.83   \nAWS EC2 V100 (p3.2xlarge)                     61           1.05       3.85   \nGoogle Cloud Compute Engine P100              20           0.50       5.32   \nvast.ai GTX 1070 Ti                           16           0.06       7.23   \nPaperspace Quadro M4000                       30           0.51       8.30   \nGoogle Cloud Compute Engine P4                26           0.33      10.28   \nGoogle Cloud Compute Engine K80               17           0.20      18.13   \nAWS EC2 K80 (p2.xlarge)                       61           0.28      20.90   \nGoogle Colab K80                              13           0.00      31.17   \n\n                                        Cost to Train        short_names  \nfull                                                                      \nAWS EC2 V100 x 4 (p3.8xlarge)                    0.20    AWS EC2 V100 x4  \nGoogle Cloud Compute Engine V100 x 4             0.17        GCP V100 x4  \nGoogle Cloud Compute Engine V100 x 2             0.10        GCP V100 x2  \nGoogle Cloud Compute Engine V100                 0.05           GCP V100  \nAWS EC2 V100 (p3.2xlarge)                        0.07       AWS EC2 V100  \nGoogle Cloud Compute Engine P100                 0.04           GCP P100  \nvast.ai GTX 1070 Ti                              0.01  vast.ai GTX1070Ti  \nPaperspace Quadro M4000                          0.07   Paperspace M4000  \nGoogle Cloud Compute Engine P4                   0.06             GCP P4  \nGoogle Cloud Compute Engine K80                  0.06            GCP K80  \nAWS EC2 K80 (p2.xlarge)                          0.10        AWS EC2 K80  \nGoogle Colab K80                                 0.00   Google Colab K80  ",
            "text/html": "<div>\n<style scoped>\n    .dataframe tbody tr th:only-of-type {\n        vertical-align: middle;\n    }\n\n    .dataframe tbody tr th {\n        vertical-align: top;\n    }\n\n    .dataframe thead th {\n        text-align: right;\n    }\n</style>\n<table border=\"1\" class=\"dataframe\">\n  <thead>\n    <tr style=\"text-align: right;\">\n      <th></th>\n      <th>Cloud Service</th>\n      <th>NVIDIA GPU</th>\n      <th>CPUs</th>\n      <th>GPU RAM</th>\n      <th>CPU RAM</th>\n      <th>Cost Per Hour</th>\n      <th>Wall Time</th>\n      <th>Cost to Train</th>\n      <th>short_names</th>\n    </tr>\n    <tr>\n      <th>full</th>\n      <th></th>\n      <th></th>\n      <th></th>\n      <th></th>\n      <th></th>\n      <th></th>\n      <th></th>\n      <th></th>\n      <th></th>\n    </tr>\n  </thead>\n  <tbody>\n    <tr>\n      <th>AWS EC2 V100 x 4 (p3.8xlarge)</th>\n      <td>AWS EC2</td>\n      <td>V100 x 4 (p3.8xlarge)</td>\n      <td>64</td>\n      <td>128.00</td>\n      <td>488</td>\n      <td>4.05</td>\n      <td>2.97</td>\n      <td>0.20</td>\n      <td>AWS EC2 V100 x4</td>\n    </tr>\n    <tr>\n      <th>Google Cloud Compute Engine V100 x 4</th>\n      <td>Google Cloud Compute Engine</td>\n      <td>V100 x 4</td>\n      <td>8</td>\n      <td>64.00</td>\n      <td>30</td>\n      <td>3.05</td>\n      <td>3.38</td>\n      <td>0.17</td>\n      <td>GCP V100 x4</td>\n    </tr>\n    <tr>\n      <th>Google Cloud Compute Engine V100 x 2</th>\n      <td>Google Cloud Compute Engine</td>\n      <td>V100 x 2</td>\n      <td>8</td>\n      <td>32.00</td>\n      <td>30</td>\n      <td>1.57</td>\n      <td>3.63</td>\n      <td>0.10</td>\n      <td>GCP V100 x2</td>\n    </tr>\n    <tr>\n      <th>Google Cloud Compute Engine V100</th>\n      <td>Google Cloud Compute Engine</td>\n      <td>V100</td>\n      <td>8</td>\n      <td>16.00</td>\n      <td>20</td>\n      <td>0.82</td>\n      <td>3.83</td>\n      <td>0.05</td>\n      <td>GCP V100</td>\n    </tr>\n    <tr>\n      <th>AWS EC2 V100 (p3.2xlarge)</th>\n      <td>AWS EC2</td>\n      <td>V100 (p3.2xlarge)</td>\n      <td>8</td>\n      <td>16.00</td>\n      <td>61</td>\n      <td>1.05</td>\n      <td>3.85</td>\n      <td>0.07</td>\n      <td>AWS EC2 V100</td>\n    </tr>\n    <tr>\n      <th>Google Cloud Compute Engine P100</th>\n      <td>Google Cloud Compute Engine</td>\n      <td>P100</td>\n      <td>6</td>\n      <td>16.00</td>\n      <td>20</td>\n      <td>0.50</td>\n      <td>5.32</td>\n      <td>0.04</td>\n      <td>GCP P100</td>\n    </tr>\n    <tr>\n      <th>vast.ai GTX 1070 Ti</th>\n      <td>vast.ai</td>\n      <td>GTX 1070 Ti</td>\n      <td>4</td>\n      <td>8.10</td>\n      <td>16</td>\n      <td>0.06</td>\n      <td>7.23</td>\n      <td>0.01</td>\n      <td>vast.ai GTX1070Ti</td>\n    </tr>\n    <tr>\n      <th>Paperspace Quadro M4000</th>\n      <td>Paperspace</td>\n      <td>Quadro M4000</td>\n      <td>8</td>\n      <td>8.00</td>\n      <td>30</td>\n      <td>0.51</td>\n      <td>8.30</td>\n      <td>0.07</td>\n      <td>Paperspace M4000</td>\n    </tr>\n    <tr>\n      <th>Google Cloud Compute Engine P4</th>\n      <td>Google Cloud Compute Engine</td>\n      <td>P4</td>\n      <td>4</td>\n      <td>8.00</td>\n      <td>26</td>\n      <td>0.33</td>\n      <td>10.28</td>\n      <td>0.06</td>\n      <td>GCP P4</td>\n    </tr>\n    <tr>\n      <th>Google Cloud Compute Engine K80</th>\n      <td>Google Cloud Compute Engine</td>\n      <td>K80</td>\n      <td>6</td>\n      <td>12.00</td>\n      <td>17</td>\n      <td>0.20</td>\n      <td>18.13</td>\n      <td>0.06</td>\n      <td>GCP K80</td>\n    </tr>\n    <tr>\n      <th>AWS EC2 K80 (p2.xlarge)</th>\n      <td>AWS EC2</td>\n      <td>K80 (p2.xlarge)</td>\n      <td>4</td>\n      <td>12.00</td>\n      <td>61</td>\n      <td>0.28</td>\n      <td>20.90</td>\n      <td>0.10</td>\n      <td>AWS EC2 K80</td>\n    </tr>\n    <tr>\n      <th>Google Colab K80</th>\n      <td>Google Colab</td>\n      <td>K80</td>\n      <td>1</td>\n      <td>12.00</td>\n      <td>13</td>\n      <td>0.00</td>\n      <td>31.17</td>\n      <td>0.00</td>\n      <td>Google Colab K80</td>\n    </tr>\n  </tbody>\n</table>\n</div>"
          },
          "metadata": {}
        }
      ]
    },
    {
      "metadata": {
        "_uuid": "8c0280c22853644f62c2fdc5f4bba71cf79fb484"
      },
      "cell_type": "markdown",
      "source": "Let's make a plotly figure with the data."
    },
    {
      "metadata": {
        "trusted": true,
        "_uuid": "18f20d70c7e106a5978ef72aba74e029e27cecde"
      },
      "cell_type": "code",
      "source": "cmax=200\ncmin=50\ncolor_s = np.linspace(cmin, cmax, 12)\n\ndata = [\n    go.Bar(\n        x=df.short_names,          \n        y=df['Wall Time'],\n        marker=dict(\n            colorscale='Jet',\n            color=color_s,\n        ),\n    )\n]\n\nlayout = {\n    'title': 'Time to Train',\n    'xaxis': {'title': 'Cloud Software', 'tickmode': 'linear'},\n    'yaxis': {'title': \"Minutes\"}\n}\n\nfig = go.Figure(data=data, layout=layout)\npy.iplot(fig)",
      "execution_count": 17,
      "outputs": [
        {
          "output_type": "display_data",
          "data": {
            "application/vnd.plotly.v1+json": {
              "data": [
                {
                  "marker": {
                    "color": [
                      50,
                      63.63636363636364,
                      77.27272727272728,
                      90.9090909090909,
                      104.54545454545455,
                      118.18181818181819,
                      131.8181818181818,
                      145.45454545454544,
                      159.0909090909091,
                      172.72727272727275,
                      186.36363636363637,
                      200
                    ],
                    "colorscale": "Jet"
                  },
                  "x": [
                    "AWS EC2 V100 x4",
                    "GCP V100 x4",
                    "GCP V100 x2",
                    "GCP V100",
                    "AWS EC2 V100",
                    "GCP P100",
                    "vast.ai GTX1070Ti",
                    "Paperspace M4000",
                    "GCP P4",
                    "GCP K80",
                    "AWS EC2 K80",
                    "Google Colab K80"
                  ],
                  "y": [
                    2.97,
                    3.38,
                    3.63,
                    3.83,
                    3.85,
                    5.32,
                    7.23,
                    8.3,
                    10.28,
                    18.13,
                    20.9,
                    31.17
                  ],
                  "type": "bar",
                  "uid": "b239d253-1734-4d88-916a-124602071d15"
                }
              ],
              "layout": {
                "title": {
                  "text": "Time to Train"
                },
                "xaxis": {
                  "tickmode": "linear",
                  "title": {
                    "text": "Cloud Software"
                  }
                },
                "yaxis": {
                  "title": {
                    "text": "Minutes"
                  }
                }
              },
              "config": {
                "showLink": false,
                "linkText": "Export to plot.ly",
                "plotlyServerURL": "https://plot.ly"
              }
            },
            "text/html": "<div id=\"639dd685-8c3a-4f0c-8a2c-d97b35bc641d\" style=\"height: 525px; width: 100%;\" class=\"plotly-graph-div\"></div><script type=\"text/javascript\">require([\"plotly\"], function(Plotly) { window.PLOTLYENV=window.PLOTLYENV || {};window.PLOTLYENV.BASE_URL=\"https://plot.ly\";Plotly.newPlot(\"639dd685-8c3a-4f0c-8a2c-d97b35bc641d\", [{\"marker\": {\"color\": [50.0, 63.63636363636364, 77.27272727272728, 90.9090909090909, 104.54545454545455, 118.18181818181819, 131.8181818181818, 145.45454545454544, 159.0909090909091, 172.72727272727275, 186.36363636363637, 200.0], \"colorscale\": \"Jet\"}, \"x\": [\"AWS EC2 V100 x4\", \"GCP V100 x4\", \"GCP V100 x2\", \"GCP V100\", \"AWS EC2 V100\", \"GCP P100\", \"vast.ai GTX1070Ti\", \"Paperspace M4000\", \"GCP P4\", \"GCP K80\", \"AWS EC2 K80\", \"Google Colab K80\"], \"y\": [2.97, 3.38, 3.63, 3.83, 3.85, 5.32, 7.23, 8.3, 10.28, 18.13, 20.9, 31.17], \"type\": \"bar\", \"uid\": \"b239d253-1734-4d88-916a-124602071d15\"}], {\"title\": {\"text\": \"Time to Train\"}, \"xaxis\": {\"tickmode\": \"linear\", \"title\": {\"text\": \"Cloud Software\"}}, \"yaxis\": {\"title\": {\"text\": \"Minutes\"}}}, {\"showLink\": false, \"linkText\": \"Export to plot.ly\", \"plotlyServerURL\": \"https://plot.ly\"})});</script><script type=\"text/javascript\">window.addEventListener(\"resize\", function(){window._Plotly.Plots.resize(document.getElementById(\"639dd685-8c3a-4f0c-8a2c-d97b35bc641d\"));});</script>",
            "text/vnd.plotly.v1+html": "<div id=\"639dd685-8c3a-4f0c-8a2c-d97b35bc641d\" style=\"height: 525px; width: 100%;\" class=\"plotly-graph-div\"></div><script type=\"text/javascript\">require([\"plotly\"], function(Plotly) { window.PLOTLYENV=window.PLOTLYENV || {};window.PLOTLYENV.BASE_URL=\"https://plot.ly\";Plotly.newPlot(\"639dd685-8c3a-4f0c-8a2c-d97b35bc641d\", [{\"marker\": {\"color\": [50.0, 63.63636363636364, 77.27272727272728, 90.9090909090909, 104.54545454545455, 118.18181818181819, 131.8181818181818, 145.45454545454544, 159.0909090909091, 172.72727272727275, 186.36363636363637, 200.0], \"colorscale\": \"Jet\"}, \"x\": [\"AWS EC2 V100 x4\", \"GCP V100 x4\", \"GCP V100 x2\", \"GCP V100\", \"AWS EC2 V100\", \"GCP P100\", \"vast.ai GTX1070Ti\", \"Paperspace M4000\", \"GCP P4\", \"GCP K80\", \"AWS EC2 K80\", \"Google Colab K80\"], \"y\": [2.97, 3.38, 3.63, 3.83, 3.85, 5.32, 7.23, 8.3, 10.28, 18.13, 20.9, 31.17], \"type\": \"bar\", \"uid\": \"b239d253-1734-4d88-916a-124602071d15\"}], {\"title\": {\"text\": \"Time to Train\"}, \"xaxis\": {\"tickmode\": \"linear\", \"title\": {\"text\": \"Cloud Software\"}}, \"yaxis\": {\"title\": {\"text\": \"Minutes\"}}}, {\"showLink\": false, \"linkText\": \"Export to plot.ly\", \"plotlyServerURL\": \"https://plot.ly\"})});</script><script type=\"text/javascript\">window.addEventListener(\"resize\", function(){window._Plotly.Plots.resize(document.getElementById(\"639dd685-8c3a-4f0c-8a2c-d97b35bc641d\"));});</script>"
          },
          "metadata": {}
        }
      ]
    },
    {
      "metadata": {
        "_uuid": "d0a9bb2ecfc910cc9008bc1ea63892d258addf02"
      },
      "cell_type": "markdown",
      "source": "## Let's plot price vs speed on a scatter plot."
    },
    {
      "metadata": {
        "_uuid": "f4c270ebd658c1b50898a8b17d2a3177085292fa"
      },
      "cell_type": "markdown",
      "source": "> Let's make a DataFrame that just contains the poinyd on the efficient frontier."
    },
    {
      "metadata": {
        "trusted": true,
        "_uuid": "73fd6faa5c3839d3fd6f19866cd5acd0b7747818"
      },
      "cell_type": "code",
      "source": "df_best = df.iloc[[0,1,2,4,5,6,11],:]\ndf_best",
      "execution_count": 18,
      "outputs": [
        {
          "output_type": "execute_result",
          "execution_count": 18,
          "data": {
            "text/plain": "                                                      Cloud Service  \\\nfull                                                                  \nAWS EC2 V100 x 4 (p3.8xlarge)                               AWS EC2   \nGoogle Cloud Compute Engine V100 x 4    Google Cloud Compute Engine   \nGoogle Cloud Compute Engine V100 x 2    Google Cloud Compute Engine   \nAWS EC2 V100 (p3.2xlarge)                                   AWS EC2   \nGoogle Cloud Compute Engine P100        Google Cloud Compute Engine   \nvast.ai GTX 1070 Ti                                         vast.ai   \nGoogle Colab K80                                       Google Colab   \n\n                                                   NVIDIA GPU  CPUs  GPU RAM   \\\nfull                                                                            \nAWS EC2 V100 x 4 (p3.8xlarge)           V100 x 4 (p3.8xlarge)    64    128.00   \nGoogle Cloud Compute Engine V100 x 4               V100 x 4       8     64.00   \nGoogle Cloud Compute Engine V100 x 2                 V100 x 2     8     32.00   \nAWS EC2 V100 (p3.2xlarge)                   V100 (p3.2xlarge)     8     16.00   \nGoogle Cloud Compute Engine P100                         P100     6     16.00   \nvast.ai GTX 1070 Ti                               GTX 1070 Ti     4      8.10   \nGoogle Colab K80                                          K80     1     12.00   \n\n                                        CPU RAM   Cost Per Hour  Wall Time  \\\nfull                                                                         \nAWS EC2 V100 x 4 (p3.8xlarge)                488           4.05       2.97   \nGoogle Cloud Compute Engine V100 x 4          30           3.05       3.38   \nGoogle Cloud Compute Engine V100 x 2          30           1.57       3.63   \nAWS EC2 V100 (p3.2xlarge)                     61           1.05       3.85   \nGoogle Cloud Compute Engine P100              20           0.50       5.32   \nvast.ai GTX 1070 Ti                           16           0.06       7.23   \nGoogle Colab K80                              13           0.00      31.17   \n\n                                        Cost to Train        short_names  \nfull                                                                      \nAWS EC2 V100 x 4 (p3.8xlarge)                    0.20    AWS EC2 V100 x4  \nGoogle Cloud Compute Engine V100 x 4             0.17        GCP V100 x4  \nGoogle Cloud Compute Engine V100 x 2             0.10        GCP V100 x2  \nAWS EC2 V100 (p3.2xlarge)                        0.07       AWS EC2 V100  \nGoogle Cloud Compute Engine P100                 0.04           GCP P100  \nvast.ai GTX 1070 Ti                              0.01  vast.ai GTX1070Ti  \nGoogle Colab K80                                 0.00   Google Colab K80  ",
            "text/html": "<div>\n<style scoped>\n    .dataframe tbody tr th:only-of-type {\n        vertical-align: middle;\n    }\n\n    .dataframe tbody tr th {\n        vertical-align: top;\n    }\n\n    .dataframe thead th {\n        text-align: right;\n    }\n</style>\n<table border=\"1\" class=\"dataframe\">\n  <thead>\n    <tr style=\"text-align: right;\">\n      <th></th>\n      <th>Cloud Service</th>\n      <th>NVIDIA GPU</th>\n      <th>CPUs</th>\n      <th>GPU RAM</th>\n      <th>CPU RAM</th>\n      <th>Cost Per Hour</th>\n      <th>Wall Time</th>\n      <th>Cost to Train</th>\n      <th>short_names</th>\n    </tr>\n    <tr>\n      <th>full</th>\n      <th></th>\n      <th></th>\n      <th></th>\n      <th></th>\n      <th></th>\n      <th></th>\n      <th></th>\n      <th></th>\n      <th></th>\n    </tr>\n  </thead>\n  <tbody>\n    <tr>\n      <th>AWS EC2 V100 x 4 (p3.8xlarge)</th>\n      <td>AWS EC2</td>\n      <td>V100 x 4 (p3.8xlarge)</td>\n      <td>64</td>\n      <td>128.00</td>\n      <td>488</td>\n      <td>4.05</td>\n      <td>2.97</td>\n      <td>0.20</td>\n      <td>AWS EC2 V100 x4</td>\n    </tr>\n    <tr>\n      <th>Google Cloud Compute Engine V100 x 4</th>\n      <td>Google Cloud Compute Engine</td>\n      <td>V100 x 4</td>\n      <td>8</td>\n      <td>64.00</td>\n      <td>30</td>\n      <td>3.05</td>\n      <td>3.38</td>\n      <td>0.17</td>\n      <td>GCP V100 x4</td>\n    </tr>\n    <tr>\n      <th>Google Cloud Compute Engine V100 x 2</th>\n      <td>Google Cloud Compute Engine</td>\n      <td>V100 x 2</td>\n      <td>8</td>\n      <td>32.00</td>\n      <td>30</td>\n      <td>1.57</td>\n      <td>3.63</td>\n      <td>0.10</td>\n      <td>GCP V100 x2</td>\n    </tr>\n    <tr>\n      <th>AWS EC2 V100 (p3.2xlarge)</th>\n      <td>AWS EC2</td>\n      <td>V100 (p3.2xlarge)</td>\n      <td>8</td>\n      <td>16.00</td>\n      <td>61</td>\n      <td>1.05</td>\n      <td>3.85</td>\n      <td>0.07</td>\n      <td>AWS EC2 V100</td>\n    </tr>\n    <tr>\n      <th>Google Cloud Compute Engine P100</th>\n      <td>Google Cloud Compute Engine</td>\n      <td>P100</td>\n      <td>6</td>\n      <td>16.00</td>\n      <td>20</td>\n      <td>0.50</td>\n      <td>5.32</td>\n      <td>0.04</td>\n      <td>GCP P100</td>\n    </tr>\n    <tr>\n      <th>vast.ai GTX 1070 Ti</th>\n      <td>vast.ai</td>\n      <td>GTX 1070 Ti</td>\n      <td>4</td>\n      <td>8.10</td>\n      <td>16</td>\n      <td>0.06</td>\n      <td>7.23</td>\n      <td>0.01</td>\n      <td>vast.ai GTX1070Ti</td>\n    </tr>\n    <tr>\n      <th>Google Colab K80</th>\n      <td>Google Colab</td>\n      <td>K80</td>\n      <td>1</td>\n      <td>12.00</td>\n      <td>13</td>\n      <td>0.00</td>\n      <td>31.17</td>\n      <td>0.00</td>\n      <td>Google Colab K80</td>\n    </tr>\n  </tbody>\n</table>\n</div>"
          },
          "metadata": {}
        }
      ]
    },
    {
      "metadata": {
        "_uuid": "3326ad72424e1b93bfc2774d15064e053518ee36"
      },
      "cell_type": "markdown",
      "source": "Make a subset DataFrames by cloud provider for Plotly traces."
    },
    {
      "metadata": {
        "trusted": true,
        "_uuid": "5f524a03ee98b216fa2900c4a7fbd9255ca74e91"
      },
      "cell_type": "code",
      "source": "df_aws = df[df['Cloud Service']=='AWS EC2']\ndf_aws",
      "execution_count": 27,
      "outputs": [
        {
          "output_type": "execute_result",
          "execution_count": 27,
          "data": {
            "text/plain": "                              Cloud Service             NVIDIA GPU  CPUs  \\\nfull                                                                       \nAWS EC2 V100 x 4 (p3.8xlarge)       AWS EC2  V100 x 4 (p3.8xlarge)    64   \nAWS EC2 V100 (p3.2xlarge)           AWS EC2      V100 (p3.2xlarge)     8   \nAWS EC2 K80 (p2.xlarge)             AWS EC2        K80 (p2.xlarge)     4   \n\n                               GPU RAM   CPU RAM   Cost Per Hour  Wall Time  \\\nfull                                                                          \nAWS EC2 V100 x 4 (p3.8xlarge)    128.00       488           4.05       2.97   \nAWS EC2 V100 (p3.2xlarge)         16.00        61           1.05       3.85   \nAWS EC2 K80 (p2.xlarge)           12.00        61           0.28      20.90   \n\n                               Cost to Train      short_names  \nfull                                                           \nAWS EC2 V100 x 4 (p3.8xlarge)           0.20  AWS EC2 V100 x4  \nAWS EC2 V100 (p3.2xlarge)               0.07     AWS EC2 V100  \nAWS EC2 K80 (p2.xlarge)                 0.10      AWS EC2 K80  ",
            "text/html": "<div>\n<style scoped>\n    .dataframe tbody tr th:only-of-type {\n        vertical-align: middle;\n    }\n\n    .dataframe tbody tr th {\n        vertical-align: top;\n    }\n\n    .dataframe thead th {\n        text-align: right;\n    }\n</style>\n<table border=\"1\" class=\"dataframe\">\n  <thead>\n    <tr style=\"text-align: right;\">\n      <th></th>\n      <th>Cloud Service</th>\n      <th>NVIDIA GPU</th>\n      <th>CPUs</th>\n      <th>GPU RAM</th>\n      <th>CPU RAM</th>\n      <th>Cost Per Hour</th>\n      <th>Wall Time</th>\n      <th>Cost to Train</th>\n      <th>short_names</th>\n    </tr>\n    <tr>\n      <th>full</th>\n      <th></th>\n      <th></th>\n      <th></th>\n      <th></th>\n      <th></th>\n      <th></th>\n      <th></th>\n      <th></th>\n      <th></th>\n    </tr>\n  </thead>\n  <tbody>\n    <tr>\n      <th>AWS EC2 V100 x 4 (p3.8xlarge)</th>\n      <td>AWS EC2</td>\n      <td>V100 x 4 (p3.8xlarge)</td>\n      <td>64</td>\n      <td>128.00</td>\n      <td>488</td>\n      <td>4.05</td>\n      <td>2.97</td>\n      <td>0.20</td>\n      <td>AWS EC2 V100 x4</td>\n    </tr>\n    <tr>\n      <th>AWS EC2 V100 (p3.2xlarge)</th>\n      <td>AWS EC2</td>\n      <td>V100 (p3.2xlarge)</td>\n      <td>8</td>\n      <td>16.00</td>\n      <td>61</td>\n      <td>1.05</td>\n      <td>3.85</td>\n      <td>0.07</td>\n      <td>AWS EC2 V100</td>\n    </tr>\n    <tr>\n      <th>AWS EC2 K80 (p2.xlarge)</th>\n      <td>AWS EC2</td>\n      <td>K80 (p2.xlarge)</td>\n      <td>4</td>\n      <td>12.00</td>\n      <td>61</td>\n      <td>0.28</td>\n      <td>20.90</td>\n      <td>0.10</td>\n      <td>AWS EC2 K80</td>\n    </tr>\n  </tbody>\n</table>\n</div>"
          },
          "metadata": {}
        }
      ]
    },
    {
      "metadata": {
        "trusted": true,
        "_uuid": "9efeb53c5efc106a004d0b3f806459f0c31e03bd"
      },
      "cell_type": "code",
      "source": "df_gcp = df[df['Cloud Service']=='Google Cloud Compute Engine']\ndf_gcp",
      "execution_count": 28,
      "outputs": [
        {
          "output_type": "execute_result",
          "execution_count": 28,
          "data": {
            "text/plain": "                                                      Cloud Service  \\\nfull                                                                  \nGoogle Cloud Compute Engine V100 x 4    Google Cloud Compute Engine   \nGoogle Cloud Compute Engine V100 x 2    Google Cloud Compute Engine   \nGoogle Cloud Compute Engine V100        Google Cloud Compute Engine   \nGoogle Cloud Compute Engine P100        Google Cloud Compute Engine   \nGoogle Cloud Compute Engine P4          Google Cloud Compute Engine   \nGoogle Cloud Compute Engine K80         Google Cloud Compute Engine   \n\n                                        NVIDIA GPU  CPUs  GPU RAM   CPU RAM   \\\nfull                                                                           \nGoogle Cloud Compute Engine V100 x 4    V100 x 4       8     64.00        30   \nGoogle Cloud Compute Engine V100 x 2      V100 x 2     8     32.00        30   \nGoogle Cloud Compute Engine V100              V100     8     16.00        20   \nGoogle Cloud Compute Engine P100              P100     6     16.00        20   \nGoogle Cloud Compute Engine P4                  P4     4      8.00        26   \nGoogle Cloud Compute Engine K80                K80     6     12.00        17   \n\n                                        Cost Per Hour  Wall Time  \\\nfull                                                               \nGoogle Cloud Compute Engine V100 x 4             3.05       3.38   \nGoogle Cloud Compute Engine V100 x 2             1.57       3.63   \nGoogle Cloud Compute Engine V100                 0.82       3.83   \nGoogle Cloud Compute Engine P100                 0.50       5.32   \nGoogle Cloud Compute Engine P4                   0.33      10.28   \nGoogle Cloud Compute Engine K80                  0.20      18.13   \n\n                                        Cost to Train  short_names  \nfull                                                                \nGoogle Cloud Compute Engine V100 x 4             0.17  GCP V100 x4  \nGoogle Cloud Compute Engine V100 x 2             0.10  GCP V100 x2  \nGoogle Cloud Compute Engine V100                 0.05     GCP V100  \nGoogle Cloud Compute Engine P100                 0.04     GCP P100  \nGoogle Cloud Compute Engine P4                   0.06       GCP P4  \nGoogle Cloud Compute Engine K80                  0.06      GCP K80  ",
            "text/html": "<div>\n<style scoped>\n    .dataframe tbody tr th:only-of-type {\n        vertical-align: middle;\n    }\n\n    .dataframe tbody tr th {\n        vertical-align: top;\n    }\n\n    .dataframe thead th {\n        text-align: right;\n    }\n</style>\n<table border=\"1\" class=\"dataframe\">\n  <thead>\n    <tr style=\"text-align: right;\">\n      <th></th>\n      <th>Cloud Service</th>\n      <th>NVIDIA GPU</th>\n      <th>CPUs</th>\n      <th>GPU RAM</th>\n      <th>CPU RAM</th>\n      <th>Cost Per Hour</th>\n      <th>Wall Time</th>\n      <th>Cost to Train</th>\n      <th>short_names</th>\n    </tr>\n    <tr>\n      <th>full</th>\n      <th></th>\n      <th></th>\n      <th></th>\n      <th></th>\n      <th></th>\n      <th></th>\n      <th></th>\n      <th></th>\n      <th></th>\n    </tr>\n  </thead>\n  <tbody>\n    <tr>\n      <th>Google Cloud Compute Engine V100 x 4</th>\n      <td>Google Cloud Compute Engine</td>\n      <td>V100 x 4</td>\n      <td>8</td>\n      <td>64.00</td>\n      <td>30</td>\n      <td>3.05</td>\n      <td>3.38</td>\n      <td>0.17</td>\n      <td>GCP V100 x4</td>\n    </tr>\n    <tr>\n      <th>Google Cloud Compute Engine V100 x 2</th>\n      <td>Google Cloud Compute Engine</td>\n      <td>V100 x 2</td>\n      <td>8</td>\n      <td>32.00</td>\n      <td>30</td>\n      <td>1.57</td>\n      <td>3.63</td>\n      <td>0.10</td>\n      <td>GCP V100 x2</td>\n    </tr>\n    <tr>\n      <th>Google Cloud Compute Engine V100</th>\n      <td>Google Cloud Compute Engine</td>\n      <td>V100</td>\n      <td>8</td>\n      <td>16.00</td>\n      <td>20</td>\n      <td>0.82</td>\n      <td>3.83</td>\n      <td>0.05</td>\n      <td>GCP V100</td>\n    </tr>\n    <tr>\n      <th>Google Cloud Compute Engine P100</th>\n      <td>Google Cloud Compute Engine</td>\n      <td>P100</td>\n      <td>6</td>\n      <td>16.00</td>\n      <td>20</td>\n      <td>0.50</td>\n      <td>5.32</td>\n      <td>0.04</td>\n      <td>GCP P100</td>\n    </tr>\n    <tr>\n      <th>Google Cloud Compute Engine P4</th>\n      <td>Google Cloud Compute Engine</td>\n      <td>P4</td>\n      <td>4</td>\n      <td>8.00</td>\n      <td>26</td>\n      <td>0.33</td>\n      <td>10.28</td>\n      <td>0.06</td>\n      <td>GCP P4</td>\n    </tr>\n    <tr>\n      <th>Google Cloud Compute Engine K80</th>\n      <td>Google Cloud Compute Engine</td>\n      <td>K80</td>\n      <td>6</td>\n      <td>12.00</td>\n      <td>17</td>\n      <td>0.20</td>\n      <td>18.13</td>\n      <td>0.06</td>\n      <td>GCP K80</td>\n    </tr>\n  </tbody>\n</table>\n</div>"
          },
          "metadata": {}
        }
      ]
    },
    {
      "metadata": {
        "trusted": true,
        "_uuid": "7793c5ce96111ed00711abb04c7571788da48071"
      },
      "cell_type": "code",
      "source": "df_vast = df[df['Cloud Service']=='vast.ai']\ndf_vast",
      "execution_count": 29,
      "outputs": [
        {
          "output_type": "execute_result",
          "execution_count": 29,
          "data": {
            "text/plain": "                    Cloud Service   NVIDIA GPU  CPUs  GPU RAM   CPU RAM   \\\nfull                                                                       \nvast.ai GTX 1070 Ti       vast.ai  GTX 1070 Ti     4      8.10        16   \n\n                     Cost Per Hour  Wall Time  Cost to Train  \\\nfull                                                           \nvast.ai GTX 1070 Ti           0.06       7.23           0.01   \n\n                           short_names  \nfull                                    \nvast.ai GTX 1070 Ti  vast.ai GTX1070Ti  ",
            "text/html": "<div>\n<style scoped>\n    .dataframe tbody tr th:only-of-type {\n        vertical-align: middle;\n    }\n\n    .dataframe tbody tr th {\n        vertical-align: top;\n    }\n\n    .dataframe thead th {\n        text-align: right;\n    }\n</style>\n<table border=\"1\" class=\"dataframe\">\n  <thead>\n    <tr style=\"text-align: right;\">\n      <th></th>\n      <th>Cloud Service</th>\n      <th>NVIDIA GPU</th>\n      <th>CPUs</th>\n      <th>GPU RAM</th>\n      <th>CPU RAM</th>\n      <th>Cost Per Hour</th>\n      <th>Wall Time</th>\n      <th>Cost to Train</th>\n      <th>short_names</th>\n    </tr>\n    <tr>\n      <th>full</th>\n      <th></th>\n      <th></th>\n      <th></th>\n      <th></th>\n      <th></th>\n      <th></th>\n      <th></th>\n      <th></th>\n      <th></th>\n    </tr>\n  </thead>\n  <tbody>\n    <tr>\n      <th>vast.ai GTX 1070 Ti</th>\n      <td>vast.ai</td>\n      <td>GTX 1070 Ti</td>\n      <td>4</td>\n      <td>8.10</td>\n      <td>16</td>\n      <td>0.06</td>\n      <td>7.23</td>\n      <td>0.01</td>\n      <td>vast.ai GTX1070Ti</td>\n    </tr>\n  </tbody>\n</table>\n</div>"
          },
          "metadata": {}
        }
      ]
    },
    {
      "metadata": {
        "trusted": true,
        "_uuid": "82aae845b9daac2dbb80d374ad76488bcb20fe22"
      },
      "cell_type": "code",
      "source": "df_colab = df[df['Cloud Service']=='Google Colab']\ndf_colab",
      "execution_count": 30,
      "outputs": [
        {
          "output_type": "execute_result",
          "execution_count": 30,
          "data": {
            "text/plain": "                 Cloud Service NVIDIA GPU  CPUs  GPU RAM   CPU RAM   \\\nfull                                                                  \nGoogle Colab K80  Google Colab        K80     1     12.00        13   \n\n                  Cost Per Hour  Wall Time  Cost to Train       short_names  \nfull                                                                         \nGoogle Colab K80           0.00      31.17           0.00  Google Colab K80  ",
            "text/html": "<div>\n<style scoped>\n    .dataframe tbody tr th:only-of-type {\n        vertical-align: middle;\n    }\n\n    .dataframe tbody tr th {\n        vertical-align: top;\n    }\n\n    .dataframe thead th {\n        text-align: right;\n    }\n</style>\n<table border=\"1\" class=\"dataframe\">\n  <thead>\n    <tr style=\"text-align: right;\">\n      <th></th>\n      <th>Cloud Service</th>\n      <th>NVIDIA GPU</th>\n      <th>CPUs</th>\n      <th>GPU RAM</th>\n      <th>CPU RAM</th>\n      <th>Cost Per Hour</th>\n      <th>Wall Time</th>\n      <th>Cost to Train</th>\n      <th>short_names</th>\n    </tr>\n    <tr>\n      <th>full</th>\n      <th></th>\n      <th></th>\n      <th></th>\n      <th></th>\n      <th></th>\n      <th></th>\n      <th></th>\n      <th></th>\n      <th></th>\n    </tr>\n  </thead>\n  <tbody>\n    <tr>\n      <th>Google Colab K80</th>\n      <td>Google Colab</td>\n      <td>K80</td>\n      <td>1</td>\n      <td>12.00</td>\n      <td>13</td>\n      <td>0.00</td>\n      <td>31.17</td>\n      <td>0.00</td>\n      <td>Google Colab K80</td>\n    </tr>\n  </tbody>\n</table>\n</div>"
          },
          "metadata": {}
        }
      ]
    },
    {
      "metadata": {
        "trusted": true,
        "_uuid": "617c29b86f20c8ccafe121949a6e84399327c583"
      },
      "cell_type": "code",
      "source": "df_paper = df[df['Cloud Service']=='Paperspace']\ndf_paper",
      "execution_count": 31,
      "outputs": [
        {
          "output_type": "execute_result",
          "execution_count": 31,
          "data": {
            "text/plain": "                        Cloud Service    NVIDIA GPU  CPUs  GPU RAM   CPU RAM   \\\nfull                                                                            \nPaperspace Quadro M4000    Paperspace  Quadro M4000     8      8.00        30   \n\n                         Cost Per Hour  Wall Time  Cost to Train  \\\nfull                                                               \nPaperspace Quadro M4000           0.51       8.30           0.07   \n\n                              short_names  \nfull                                       \nPaperspace Quadro M4000  Paperspace M4000  ",
            "text/html": "<div>\n<style scoped>\n    .dataframe tbody tr th:only-of-type {\n        vertical-align: middle;\n    }\n\n    .dataframe tbody tr th {\n        vertical-align: top;\n    }\n\n    .dataframe thead th {\n        text-align: right;\n    }\n</style>\n<table border=\"1\" class=\"dataframe\">\n  <thead>\n    <tr style=\"text-align: right;\">\n      <th></th>\n      <th>Cloud Service</th>\n      <th>NVIDIA GPU</th>\n      <th>CPUs</th>\n      <th>GPU RAM</th>\n      <th>CPU RAM</th>\n      <th>Cost Per Hour</th>\n      <th>Wall Time</th>\n      <th>Cost to Train</th>\n      <th>short_names</th>\n    </tr>\n    <tr>\n      <th>full</th>\n      <th></th>\n      <th></th>\n      <th></th>\n      <th></th>\n      <th></th>\n      <th></th>\n      <th></th>\n      <th></th>\n      <th></th>\n    </tr>\n  </thead>\n  <tbody>\n    <tr>\n      <th>Paperspace Quadro M4000</th>\n      <td>Paperspace</td>\n      <td>Quadro M4000</td>\n      <td>8</td>\n      <td>8.00</td>\n      <td>30</td>\n      <td>0.51</td>\n      <td>8.30</td>\n      <td>0.07</td>\n      <td>Paperspace M4000</td>\n    </tr>\n  </tbody>\n</table>\n</div>"
          },
          "metadata": {}
        }
      ]
    },
    {
      "metadata": {
        "_uuid": "be1641ed7177ad63858b246153e92ef0e2a5989b"
      },
      "cell_type": "markdown",
      "source": "Looks good. Let's plot."
    },
    {
      "metadata": {
        "trusted": true,
        "_uuid": "60a7c94441ad7360ec93b97d1c20875dad153cd1"
      },
      "cell_type": "code",
      "source": "dot_size = 10\n\n\ntrace1 = go.Scatter(\n    x=df_aws['Wall Time'], \n    y=df_aws['Cost Per Hour'],\n    marker={'color': 'purple', 'size': dot_size}, \n    mode=\"markers+text\",  \n    text=df_aws['short_names'],\n    name='AWS',\n    textposition=\"top center\",\n)\n\n# the line\n\ntrace2 = go.Scatter(\n    x=df_best['Wall Time'], \n    y=df_best['Cost Per Hour'],\n    marker={'color': 'yellow',}, \n    mode=\"lines\",  \n    name='Efficient Frontier',\n)\n\ntrace3 = go.Scatter(\n    x=df_colab['Wall Time'], \n    y=df_colab['Cost Per Hour'],\n    marker={'color': 'red', 'size': dot_size}, \n    mode=\"markers+text\",  \n    text=df_colab['short_names'],\n    name=\"Google Colab\",\n    textposition=\"top center\"\n)\n\ntrace4 = go.Scatter(\n    x=df_paper['Wall Time'], \n    y=df_paper['Cost Per Hour'],\n    marker={'color': 'green', 'size': dot_size}, \n    mode=\"markers+text\",  \n    text=df_paper['short_names'],\n    name=\"Paperspace\",\n    textposition=\"top center\"\n)\n\ntrace5 = go.Scatter(\n    x=df_vast['Wall Time'], \n    y=df_vast['Cost Per Hour'],\n    marker={'color': 'blue', 'size': dot_size}, \n    mode=\"markers+text\",  \n    text=df_vast['short_names'],\n    name=\"vast.ai\",\n    textposition=\"top center\"\n)\n\ntrace6 = go.Scatter(\n    x=df_gcp['Wall Time'], \n    y=df_gcp['Cost Per Hour'],\n    marker={'color': 'black', 'size': dot_size}, \n    mode=\"markers+text\",  \n    text=df_gcp.short_names,\n    name=\"Google Cloud\",\n    textposition=\"top center\"\n)\n\n                   \ndata=[trace1, trace3, trace4, trace5, trace6, trace2 ]\nlayout = go.Layout(title='Cost per Hour vs Time to Train')\n\nfig = go.FigureWidget(data,layout)\n\npy.iplot(fig)\nfig",
      "execution_count": 32,
      "outputs": [
        {
          "output_type": "display_data",
          "data": {
            "application/vnd.plotly.v1+json": {
              "data": [
                {
                  "marker": {
                    "color": "purple",
                    "size": 10
                  },
                  "mode": "markers+text",
                  "name": "AWS",
                  "text": [
                    "AWS EC2 V100 x4",
                    "AWS EC2 V100",
                    "AWS EC2 K80"
                  ],
                  "textposition": "top center",
                  "x": [
                    2.97,
                    3.85,
                    20.9
                  ],
                  "y": [
                    4.05,
                    1.05,
                    0.28
                  ],
                  "type": "scatter",
                  "uid": "d86730e0-5442-444e-b53a-e43f22bd5899"
                },
                {
                  "marker": {
                    "color": "red",
                    "size": 10
                  },
                  "mode": "markers+text",
                  "name": "Google Colab",
                  "text": [
                    "Google Colab K80"
                  ],
                  "textposition": "top center",
                  "x": [
                    31.17
                  ],
                  "y": [
                    0
                  ],
                  "type": "scatter",
                  "uid": "77f0e19e-f67c-47b1-aa54-1104aed3ff56"
                },
                {
                  "marker": {
                    "color": "green",
                    "size": 10
                  },
                  "mode": "markers+text",
                  "name": "Paperspace",
                  "text": [
                    "Paperspace M4000"
                  ],
                  "textposition": "top center",
                  "x": [
                    8.3
                  ],
                  "y": [
                    0.51
                  ],
                  "type": "scatter",
                  "uid": "2bf3754a-7fe1-4b5e-9cf8-4a0759faa37a"
                },
                {
                  "marker": {
                    "color": "blue",
                    "size": 10
                  },
                  "mode": "markers+text",
                  "name": "vast.ai",
                  "text": [
                    "vast.ai GTX1070Ti"
                  ],
                  "textposition": "top center",
                  "x": [
                    7.23
                  ],
                  "y": [
                    0.06
                  ],
                  "type": "scatter",
                  "uid": "9968f4f7-d89c-4048-8e88-55cfd93b29a6"
                },
                {
                  "marker": {
                    "color": "black",
                    "size": 10
                  },
                  "mode": "markers+text",
                  "name": "Google Cloud",
                  "text": [
                    "GCP V100 x4",
                    "GCP V100 x2",
                    "GCP V100",
                    "GCP P100",
                    "GCP P4",
                    "GCP K80"
                  ],
                  "textposition": "top center",
                  "x": [
                    3.38,
                    3.63,
                    3.83,
                    5.32,
                    10.28,
                    18.13
                  ],
                  "y": [
                    3.05,
                    1.57,
                    0.82,
                    0.5,
                    0.33,
                    0.2
                  ],
                  "type": "scatter",
                  "uid": "ed488966-740f-4ee4-9cf9-3b17dfdcfcc8"
                },
                {
                  "marker": {
                    "color": "yellow"
                  },
                  "mode": "lines",
                  "name": "Efficient Frontier",
                  "x": [
                    2.97,
                    3.38,
                    3.63,
                    3.85,
                    5.32,
                    7.23,
                    31.17
                  ],
                  "y": [
                    4.05,
                    3.05,
                    1.57,
                    1.05,
                    0.5,
                    0.06,
                    0
                  ],
                  "type": "scatter",
                  "uid": "afbbc392-201d-4c8e-819e-e8ad0770dc3f"
                }
              ],
              "layout": {
                "title": {
                  "text": "Cost per Hour vs Time to Train"
                }
              },
              "config": {
                "showLink": false,
                "linkText": "Export to plot.ly",
                "plotlyServerURL": "https://plot.ly"
              }
            },
            "text/html": "<div id=\"eef87b4a-22b0-4a0a-bc66-2ac02b2e11c9\" style=\"height: 525px; width: 100%;\" class=\"plotly-graph-div\"></div><script type=\"text/javascript\">require([\"plotly\"], function(Plotly) { window.PLOTLYENV=window.PLOTLYENV || {};window.PLOTLYENV.BASE_URL=\"https://plot.ly\";Plotly.newPlot(\"eef87b4a-22b0-4a0a-bc66-2ac02b2e11c9\", [{\"marker\": {\"color\": \"purple\", \"size\": 10}, \"mode\": \"markers+text\", \"name\": \"AWS\", \"text\": [\"AWS EC2 V100 x4\", \"AWS EC2 V100\", \"AWS EC2 K80\"], \"textposition\": \"top center\", \"x\": [2.97, 3.85, 20.9], \"y\": [4.05, 1.05, 0.28], \"type\": \"scatter\", \"uid\": \"d86730e0-5442-444e-b53a-e43f22bd5899\"}, {\"marker\": {\"color\": \"red\", \"size\": 10}, \"mode\": \"markers+text\", \"name\": \"Google Colab\", \"text\": [\"Google Colab K80\"], \"textposition\": \"top center\", \"x\": [31.17], \"y\": [0.0], \"type\": \"scatter\", \"uid\": \"77f0e19e-f67c-47b1-aa54-1104aed3ff56\"}, {\"marker\": {\"color\": \"green\", \"size\": 10}, \"mode\": \"markers+text\", \"name\": \"Paperspace\", \"text\": [\"Paperspace M4000\"], \"textposition\": \"top center\", \"x\": [8.3], \"y\": [0.51], \"type\": \"scatter\", \"uid\": \"2bf3754a-7fe1-4b5e-9cf8-4a0759faa37a\"}, {\"marker\": {\"color\": \"blue\", \"size\": 10}, \"mode\": \"markers+text\", \"name\": \"vast.ai\", \"text\": [\"vast.ai GTX1070Ti\"], \"textposition\": \"top center\", \"x\": [7.23], \"y\": [0.06], \"type\": \"scatter\", \"uid\": \"9968f4f7-d89c-4048-8e88-55cfd93b29a6\"}, {\"marker\": {\"color\": \"black\", \"size\": 10}, \"mode\": \"markers+text\", \"name\": \"Google Cloud\", \"text\": [\"GCP V100 x4\", \"GCP V100 x2\", \"GCP V100\", \"GCP P100\", \"GCP P4\", \"GCP K80\"], \"textposition\": \"top center\", \"x\": [3.38, 3.63, 3.83, 5.32, 10.28, 18.13], \"y\": [3.05, 1.57, 0.82, 0.5, 0.33, 0.2], \"type\": \"scatter\", \"uid\": \"ed488966-740f-4ee4-9cf9-3b17dfdcfcc8\"}, {\"marker\": {\"color\": \"yellow\"}, \"mode\": \"lines\", \"name\": \"Efficient Frontier\", \"x\": [2.97, 3.38, 3.63, 3.85, 5.32, 7.23, 31.17], \"y\": [4.05, 3.05, 1.57, 1.05, 0.5, 0.06, 0.0], \"type\": \"scatter\", \"uid\": \"afbbc392-201d-4c8e-819e-e8ad0770dc3f\"}], {\"title\": {\"text\": \"Cost per Hour vs Time to Train\"}}, {\"showLink\": false, \"linkText\": \"Export to plot.ly\", \"plotlyServerURL\": \"https://plot.ly\"})});</script><script type=\"text/javascript\">window.addEventListener(\"resize\", function(){window._Plotly.Plots.resize(document.getElementById(\"eef87b4a-22b0-4a0a-bc66-2ac02b2e11c9\"));});</script>",
            "text/vnd.plotly.v1+html": "<div id=\"eef87b4a-22b0-4a0a-bc66-2ac02b2e11c9\" style=\"height: 525px; width: 100%;\" class=\"plotly-graph-div\"></div><script type=\"text/javascript\">require([\"plotly\"], function(Plotly) { window.PLOTLYENV=window.PLOTLYENV || {};window.PLOTLYENV.BASE_URL=\"https://plot.ly\";Plotly.newPlot(\"eef87b4a-22b0-4a0a-bc66-2ac02b2e11c9\", [{\"marker\": {\"color\": \"purple\", \"size\": 10}, \"mode\": \"markers+text\", \"name\": \"AWS\", \"text\": [\"AWS EC2 V100 x4\", \"AWS EC2 V100\", \"AWS EC2 K80\"], \"textposition\": \"top center\", \"x\": [2.97, 3.85, 20.9], \"y\": [4.05, 1.05, 0.28], \"type\": \"scatter\", \"uid\": \"d86730e0-5442-444e-b53a-e43f22bd5899\"}, {\"marker\": {\"color\": \"red\", \"size\": 10}, \"mode\": \"markers+text\", \"name\": \"Google Colab\", \"text\": [\"Google Colab K80\"], \"textposition\": \"top center\", \"x\": [31.17], \"y\": [0.0], \"type\": \"scatter\", \"uid\": \"77f0e19e-f67c-47b1-aa54-1104aed3ff56\"}, {\"marker\": {\"color\": \"green\", \"size\": 10}, \"mode\": \"markers+text\", \"name\": \"Paperspace\", \"text\": [\"Paperspace M4000\"], \"textposition\": \"top center\", \"x\": [8.3], \"y\": [0.51], \"type\": \"scatter\", \"uid\": \"2bf3754a-7fe1-4b5e-9cf8-4a0759faa37a\"}, {\"marker\": {\"color\": \"blue\", \"size\": 10}, \"mode\": \"markers+text\", \"name\": \"vast.ai\", \"text\": [\"vast.ai GTX1070Ti\"], \"textposition\": \"top center\", \"x\": [7.23], \"y\": [0.06], \"type\": \"scatter\", \"uid\": \"9968f4f7-d89c-4048-8e88-55cfd93b29a6\"}, {\"marker\": {\"color\": \"black\", \"size\": 10}, \"mode\": \"markers+text\", \"name\": \"Google Cloud\", \"text\": [\"GCP V100 x4\", \"GCP V100 x2\", \"GCP V100\", \"GCP P100\", \"GCP P4\", \"GCP K80\"], \"textposition\": \"top center\", \"x\": [3.38, 3.63, 3.83, 5.32, 10.28, 18.13], \"y\": [3.05, 1.57, 0.82, 0.5, 0.33, 0.2], \"type\": \"scatter\", \"uid\": \"ed488966-740f-4ee4-9cf9-3b17dfdcfcc8\"}, {\"marker\": {\"color\": \"yellow\"}, \"mode\": \"lines\", \"name\": \"Efficient Frontier\", \"x\": [2.97, 3.38, 3.63, 3.85, 5.32, 7.23, 31.17], \"y\": [4.05, 3.05, 1.57, 1.05, 0.5, 0.06, 0.0], \"type\": \"scatter\", \"uid\": \"afbbc392-201d-4c8e-819e-e8ad0770dc3f\"}], {\"title\": {\"text\": \"Cost per Hour vs Time to Train\"}}, {\"showLink\": false, \"linkText\": \"Export to plot.ly\", \"plotlyServerURL\": \"https://plot.ly\"})});</script><script type=\"text/javascript\">window.addEventListener(\"resize\", function(){window._Plotly.Plots.resize(document.getElementById(\"eef87b4a-22b0-4a0a-bc66-2ac02b2e11c9\"));});</script>"
          },
          "metadata": {}
        },
        {
          "output_type": "display_data",
          "data": {
            "text/plain": "FigureWidget({\n    'data': [{'marker': {'color': 'purple', 'size': 10},\n              'mode': 'markers+text',\n…",
            "application/vnd.jupyter.widget-view+json": {
              "version_major": 2,
              "version_minor": 0,
              "model_id": "38affadae3274fb28441039ecfdf0dea"
            }
          },
          "metadata": {}
        }
      ]
    },
    {
      "metadata": {
        "_uuid": "7384dba07f6ef1417711a04e2503fd3669a6e21c"
      },
      "cell_type": "markdown",
      "source": "This is proving to be tricky with Plotly. Because the main purpose of this is for a Medium article wihtout 3D interactiveity let's switch to the Seaborn library and see if we can make something nicer."
    },
    {
      "metadata": {
        "trusted": true,
        "_uuid": "a6513569cc29954d99692f0b232c96590c573896"
      },
      "cell_type": "code",
      "source": "sns.scatterplot(data=df,x=\"Wall Time\",y=\"Cost Per Hour\")",
      "execution_count": 33,
      "outputs": [
        {
          "output_type": "execute_result",
          "execution_count": 33,
          "data": {
            "text/plain": "<matplotlib.axes._subplots.AxesSubplot at 0x7f972db500f0>"
          },
          "metadata": {}
        },
        {
          "output_type": "display_data",
          "data": {
            "text/plain": "<Figure size 432x288 with 1 Axes>",
            "image/png": "[encoded data removed]"
          },
          "metadata": {}
        }
      ]
    },
    {
      "metadata": {
        "_uuid": "907361b1785da7bee447022b8cd66955fdb9ac6d"
      },
      "cell_type": "markdown",
      "source": "Ok. That's a start. Let's see if we can improve it."
    },
    {
      "metadata": {
        "trusted": true,
        "_uuid": "54a43f7b41977f0988e30337c1939d8171bf110e"
      },
      "cell_type": "code",
      "source": "fig, ax = plt.subplots()\n\nsns.scatterplot(\n    data=df,\n    x=\"Wall Time\",\n    y=\"Cost Per Hour\",\n    hue=\"Cloud Service\", \n    legend=False,\n    s=100,\n)\n\nfor item_num in range(0,df.shape[0]):\n     ax.text(\n         df['Wall Time'][item_num]+0.2, \n         df['Cost Per Hour'][item_num]-0.12, \n         df['short_names'][item_num], \n     )\n\nsns.despine()\nfig.set_size_inches(11.7, 8.27)\n\nax.set_title('Cost per Hour vs Time to Train', fontsize=24)\n# ax.legend(loc='upper right', fontsize=16,)\nax.set_xlabel('Time to Train (Minutes)',fontsize=16);\nax.set_ylabel('Cost per Hour ($ USD)',fontsize=16);\n\nimport matplotlib.ticker as mtick\nfmt = '${x:,.2f}'\ntick = mtick.StrMethodFormatter(fmt)\nax.yaxis.set_major_formatter(tick) \n\n\n# https://stackoverflow.com/questions/38152356/matplotlib-dollar-sign-with-thousands-comma-tick-labels\n\nfig.savefig('cost_v_time.png')",
      "execution_count": 34,
      "outputs": [
        {
          "output_type": "display_data",
          "data": {
            "text/plain": "<Figure size 842.4x595.44 with 1 Axes>",
            "image/png": "[encoded data removed]"
          },
          "metadata": {}
        }
      ]
    },
    {
      "metadata": {
        "_uuid": "f2aa2fb43ecf4aade5ae0e8c6f01dcf9de20ab5d"
      },
      "cell_type": "markdown",
      "source": "Note that the Google Colab was run without parallelization, because of a bug in Colab's allocation of shared memory for the Docker container. This issue has since been fixed, so the time now appear to be similar to the other K80s."
    },
    {
      "metadata": {
        "_uuid": "b67755d7fcca6680da404838efaa56544b648720"
      },
      "cell_type": "markdown",
      "source": "## Please see [this Medium article](https://towardsdatascience.com/maximize-your-gpu-dollars-a9133f4e546a) for the full comparison and discussion. \n## Please upvote if you found this helpful, so that others can find it too :)"
    },
    {
      "metadata": {
        "trusted": true,
        "_uuid": "cca85ad31e861ee65d71c445f0dae4edd89004f9"
      },
      "cell_type": "code",
      "source": "",
      "execution_count": null,
      "outputs": []
    }
  ],
  "metadata": {
    "kernelspec": {
      "display_name": "Python 3",
      "language": "python",
      "name": "python3"
    },
    "language_info": {
      "name": "python",
      "version": "3.6.6",
      "mimetype": "text/x-python",
      "codemirror_mode": {
        "name": "ipython",
        "version": 3
      },
      "pygments_lexer": "ipython3",
      "nbconvert_exporter": "python",
      "file_extension": ".py"
    }
  },
  "nbformat": 4,
  "nbformat_minor": 1
}